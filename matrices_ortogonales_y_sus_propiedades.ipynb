{
  "nbformat": 4,
  "nbformat_minor": 0,
  "metadata": {
    "colab": {
      "name": "matrices ortogonales y sus propiedades.ipynb",
      "provenance": [],
      "authorship_tag": "ABX9TyN8hFwbEuaslftIm7CcwzkU",
      "include_colab_link": true
    },
    "kernelspec": {
      "name": "python3",
      "display_name": "Python 3"
    },
    "language_info": {
      "name": "python"
    }
  },
  "cells": [
    {
      "cell_type": "markdown",
      "metadata": {
        "id": "view-in-github",
        "colab_type": "text"
      },
      "source": [
        "<a href=\"https://colab.research.google.com/github/Mgobeaalcoba/Deepnote_Repository/blob/main/matrices_ortogonales_y_sus_propiedades.ipynb\" target=\"_parent\"><img src=\"https://colab.research.google.com/assets/colab-badge.svg\" alt=\"Open In Colab\"/></a>"
      ]
    },
    {
      "cell_type": "markdown",
      "metadata": {
        "id": "-7LTNMf5Im79"
      },
      "source": [
        "Una matriz es ortogonal cuando todas sus filas son mutuamente ortonormales y todos sus columnas son mutuamente ortonormales. "
      ]
    },
    {
      "cell_type": "code",
      "metadata": {
        "id": "PF2AuVuzIyFT"
      },
      "source": [
        "import numpy as np"
      ],
      "execution_count": 1,
      "outputs": []
    },
    {
      "cell_type": "code",
      "metadata": {
        "colab": {
          "base_uri": "https://localhost:8080/"
        },
        "id": "WMeYsyKCIzwy",
        "outputId": "3e837692-42e2-407b-9945-0bf54b50d731"
      },
      "source": [
        "matriz = np.array([[1,0,0],\n",
        "                   [0,1,0],\n",
        "                   [0,0,1]\n",
        "                   ])\n",
        "print(matriz)"
      ],
      "execution_count": 3,
      "outputs": [
        {
          "output_type": "stream",
          "name": "stdout",
          "text": [
            "[[1 0 0]\n",
            " [0 1 0]\n",
            " [0 0 1]]\n"
          ]
        }
      ]
    },
    {
      "cell_type": "code",
      "metadata": {
        "colab": {
          "base_uri": "https://localhost:8080/"
        },
        "id": "tQWEz35QJD-1",
        "outputId": "74c611b5-7a5b-4532-a6fd-15f758d31ab3"
      },
      "source": [
        "# Veamos que sea ortogonal. Para ello debemos ver que sus columnas sean ortogonales\n",
        "# y que la norma de ellas sea 1 (es decir que sea ortonormales)\n",
        "\n",
        "print(matriz[:,0]) # Me quedo con la primer columna\n",
        "print(matriz[:,0].dot(matriz[:,1])) # Producto entre la primer y la segunda columna\n",
        "# Acá veo que v1 es ortogonal a v2 si me da 0 el producto interno"
      ],
      "execution_count": 7,
      "outputs": [
        {
          "output_type": "stream",
          "name": "stdout",
          "text": [
            "[1 0 0]\n",
            "0\n"
          ]
        }
      ]
    },
    {
      "cell_type": "code",
      "metadata": {
        "colab": {
          "base_uri": "https://localhost:8080/"
        },
        "id": "tattlE5WKFD0",
        "outputId": "b7062fba-69a0-4665-b80f-11b5cb5b27f3"
      },
      "source": [
        "# Verificaciones de producto 0 entre vectores de la matriz\n",
        "\n",
        "print(matriz[:,0].dot(matriz[:,1]))\n",
        "print(matriz[:,0].dot(matriz[:,2]))\n",
        "print(matriz[:,1].dot(matriz[:,2]))\n",
        "# Las tres comprobaciones que debo hacer en una matriz de 3x3 en columnas\n",
        "print(matriz[0,:].dot(matriz[1,:]))\n",
        "print(matriz[0,:].dot(matriz[2,:]))\n",
        "print(matriz[1,:].dot(matriz[2,:]))\n",
        "# Las tres comprobaciones que debo hacer en una matriz de 3x3 en filas"
      ],
      "execution_count": 13,
      "outputs": [
        {
          "output_type": "stream",
          "name": "stdout",
          "text": [
            "0\n",
            "0\n",
            "0\n",
            "0\n",
            "0\n",
            "0\n"
          ]
        }
      ]
    },
    {
      "cell_type": "code",
      "metadata": {
        "colab": {
          "base_uri": "https://localhost:8080/"
        },
        "id": "bY6yosplKWkM",
        "outputId": "910f4dee-770e-4880-b5cc-dbb18b1f3c92"
      },
      "source": [
        "# Verificaciones de norma 1 en cada columna o fila de la matriz\n",
        "\n",
        "# Comprobaciones de columnas\n",
        "print(np.linalg.norm(matriz[:,0])) # Verifico norma de la 1° columna\n",
        "print(np.linalg.norm(matriz[:,1])) # Verifico norma de la 2° columna\n",
        "print(np.linalg.norm(matriz[:,2])) # Verifico norma de la 3° columna\n",
        "# Comprobaciones de filas\n",
        "print(np.linalg.norm(matriz[0,:])) # Verifico norma de la 1° fila\n",
        "print(np.linalg.norm(matriz[1,:])) # Verifico norma de la 2° fila\n",
        "print(np.linalg.norm(matriz[2,:])) # Verifico norma de la 3° fila"
      ],
      "execution_count": 14,
      "outputs": [
        {
          "output_type": "stream",
          "name": "stdout",
          "text": [
            "1.0\n",
            "1.0\n",
            "1.0\n",
            "1.0\n",
            "1.0\n",
            "1.0\n"
          ]
        }
      ]
    },
    {
      "cell_type": "markdown",
      "metadata": {
        "id": "amQGFpGnLYqi"
      },
      "source": [
        "Por lo tanto podemos asegurar que todos los vectores son ortonormales tanto en filas como en columnas. Por lo que la matriz analizada es ortogonal. No existe la definicion de matriz ortonormal."
      ]
    },
    {
      "cell_type": "markdown",
      "metadata": {
        "id": "lsKNWoe5MV0c"
      },
      "source": [
        "Propiedades de la matriz ortogonal:\n",
        "A traspuesta por A es igual a A por A traspuesta y a su vez es igual a la identidad\n",
        "A traspuesta es igual a la inversa de A\n",
        "¿Como generamos matrices ortogonales en python? "
      ]
    },
    {
      "cell_type": "code",
      "metadata": {
        "colab": {
          "base_uri": "https://localhost:8080/"
        },
        "id": "shfbmgBeMlYq",
        "outputId": "8b6e4c51-988b-44b9-f5cc-7ce5a78e47f6"
      },
      "source": [
        "A = np.array([[np.cos(100), -np.sin(100)],\n",
        "              [np.sin(100), np.cos(100)]])\n",
        "print(A)"
      ],
      "execution_count": 15,
      "outputs": [
        {
          "output_type": "stream",
          "name": "stdout",
          "text": [
            "[[ 0.86231887  0.50636564]\n",
            " [-0.50636564  0.86231887]]\n"
          ]
        }
      ]
    },
    {
      "cell_type": "markdown",
      "metadata": {
        "id": "uMov4akhNA0b"
      },
      "source": [
        "Compruebo que esta matriz sea ortonormal"
      ]
    },
    {
      "cell_type": "code",
      "metadata": {
        "colab": {
          "base_uri": "https://localhost:8080/"
        },
        "id": "zVU63rFwNDiU",
        "outputId": "c457698f-f2f5-45db-daf0-867883a0844d"
      },
      "source": [
        "print(np.linalg.norm(A[:,0]))\n",
        "print(np.linalg.norm(A[:,1]))\n",
        "print(np.linalg.norm(A[0,:]))\n",
        "print(np.linalg.norm(A[1,:]))"
      ],
      "execution_count": 16,
      "outputs": [
        {
          "output_type": "stream",
          "name": "stdout",
          "text": [
            "0.9999999999999999\n",
            "0.9999999999999999\n",
            "0.9999999999999999\n",
            "0.9999999999999999\n"
          ]
        }
      ]
    },
    {
      "cell_type": "markdown",
      "metadata": {
        "id": "bg9DkwCTNbAG"
      },
      "source": [
        "Nos devolvió casi 1. Este numero debiera haber sido 1. "
      ]
    },
    {
      "cell_type": "code",
      "metadata": {
        "colab": {
          "base_uri": "https://localhost:8080/"
        },
        "id": "VSDLIzdhNjHq",
        "outputId": "51b60389-2038-46be-88a0-1dece1467468"
      },
      "source": [
        "# Ahora veamos que el angulo que forman entre ellos es de 90 grados\n",
        "# Para ello calculo el producto interno entre ellos y debe dar 0\n",
        "print(A[:,0].dot(A[:,1])) # Producto de una columna con la otra\n",
        "print(A[0,:].dot(A[1,:])) # Producto de una fila con la otra"
      ],
      "execution_count": 20,
      "outputs": [
        {
          "output_type": "stream",
          "name": "stdout",
          "text": [
            "-7.937715190675968e-18\n",
            "7.937715190675968e-18\n"
          ]
        }
      ]
    },
    {
      "cell_type": "code",
      "metadata": {
        "colab": {
          "base_uri": "https://localhost:8080/"
        },
        "id": "Y2Swn6jgOyVG",
        "outputId": "0a3b5cf0-234b-444e-9065-dfb77cce0b4b"
      },
      "source": [
        "print(A[0,:].dot(A[1,:]))\n",
        "print(A[:,0].dot(A[:,1]))\n",
        "# Al profesor el dio 0. A mi no porque me da un numero muy cercano a 0. Por eso\n",
        "# está elevado a la -18"
      ],
      "execution_count": 24,
      "outputs": [
        {
          "output_type": "stream",
          "name": "stdout",
          "text": [
            "7.937715190675968e-18\n",
            "-7.937715190675968e-18\n"
          ]
        }
      ]
    },
    {
      "cell_type": "code",
      "metadata": {
        "colab": {
          "base_uri": "https://localhost:8080/"
        },
        "id": "3TH8W7GCU0n5",
        "outputId": "c06c4f92-e170-4fa3-cc13-d65fac9d81e8"
      },
      "source": [
        "A_t = A.T\n",
        "print(A_t)\n",
        "print(A_t.dot(A))\n",
        "print(A.dot(A_t))"
      ],
      "execution_count": 27,
      "outputs": [
        {
          "output_type": "stream",
          "name": "stdout",
          "text": [
            "[[ 0.86231887 -0.50636564]\n",
            " [ 0.50636564  0.86231887]]\n",
            "[[ 1.00000000e+00 -7.93771519e-18]\n",
            " [-7.93771519e-18  1.00000000e+00]]\n",
            "[[1.00000000e+00 7.93771519e-18]\n",
            " [7.93771519e-18 1.00000000e+00]]\n"
          ]
        }
      ]
    },
    {
      "cell_type": "markdown",
      "metadata": {
        "id": "5hNuT4oYVPEh"
      },
      "source": [
        "Ambas matrices son iguales. Nos devolvió la identidad. No con ceros sino con numeros muy cercanos a 0. Si activaramos la opcion de numpy np.suprese.etc veriamos que es la identidad. "
      ]
    },
    {
      "cell_type": "code",
      "metadata": {
        "colab": {
          "base_uri": "https://localhost:8080/"
        },
        "id": "hUg1jQx4V2Ef",
        "outputId": "900aa2a8-7e2a-4e95-a6ab-54d73365ffc5"
      },
      "source": [
        "A_inv = np.linalg.inv(A)\n",
        "print(A_inv)"
      ],
      "execution_count": 28,
      "outputs": [
        {
          "output_type": "stream",
          "name": "stdout",
          "text": [
            "[[ 0.86231887 -0.50636564]\n",
            " [ 0.50636564  0.86231887]]\n"
          ]
        }
      ]
    },
    {
      "cell_type": "code",
      "metadata": {
        "colab": {
          "base_uri": "https://localhost:8080/"
        },
        "id": "EN5J1Su3V8Hh",
        "outputId": "4a8f3893-bd8e-421a-b250-ef0b20b7e06d"
      },
      "source": [
        "print(A_t)"
      ],
      "execution_count": 29,
      "outputs": [
        {
          "output_type": "stream",
          "name": "stdout",
          "text": [
            "[[ 0.86231887 -0.50636564]\n",
            " [ 0.50636564  0.86231887]]\n"
          ]
        }
      ]
    },
    {
      "cell_type": "markdown",
      "metadata": {
        "id": "dtA8UGn0V-NA"
      },
      "source": [
        "Vemos que son iguales"
      ]
    },
    {
      "cell_type": "code",
      "metadata": {
        "colab": {
          "base_uri": "https://localhost:8080/"
        },
        "id": "LsJHxOPlWABw",
        "outputId": "38ee9a49-368a-47ff-a4ae-ee550e4d435d"
      },
      "source": [
        "print(1/A_t.dot(A))"
      ],
      "execution_count": 30,
      "outputs": [
        {
          "output_type": "stream",
          "name": "stdout",
          "text": [
            "[[ 1.00000000e+00 -1.25980837e+17]\n",
            " [-1.25980837e+17  1.00000000e+00]]\n"
          ]
        }
      ]
    },
    {
      "cell_type": "markdown",
      "metadata": {
        "id": "V1MFQGBSWHJb"
      },
      "source": [
        "Ahora tenemos un numero infinitamente grande. Lo que nos hubiera multiplicado el error. Debemos tener mucho cuidado con este tipo de operaciones para no expandir nuestros errores. "
      ]
    }
  ]
}