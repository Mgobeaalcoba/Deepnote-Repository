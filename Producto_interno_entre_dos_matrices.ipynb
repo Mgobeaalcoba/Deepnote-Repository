{
  "nbformat": 4,
  "nbformat_minor": 0,
  "metadata": {
    "colab": {
      "name": "Producto interno entre dos matrices.ipynb",
      "provenance": [],
      "authorship_tag": "ABX9TyOeTsi+dPwyFyvuWKpgAu5t",
      "include_colab_link": true
    },
    "kernelspec": {
      "name": "python3",
      "display_name": "Python 3"
    },
    "language_info": {
      "name": "python"
    }
  },
  "cells": [
    {
      "cell_type": "markdown",
      "metadata": {
        "id": "view-in-github",
        "colab_type": "text"
      },
      "source": [
        "<a href=\"https://colab.research.google.com/github/Mgobeaalcoba/Deepnote_Repository/blob/main/Producto_interno_entre_dos_matrices.ipynb\" target=\"_parent\"><img src=\"https://colab.research.google.com/assets/colab-badge.svg\" alt=\"Open In Colab\"/></a>"
      ]
    },
    {
      "cell_type": "code",
      "metadata": {
        "id": "vJ_W6w0ntMv1"
      },
      "source": [
        "import numpy as np"
      ],
      "execution_count": 1,
      "outputs": []
    },
    {
      "cell_type": "code",
      "metadata": {
        "id": "xF4LMNi-un71"
      },
      "source": [
        "A = np.array([[1,2,3],[4,5,6],[7,8,9],[10,11,12]])\n",
        "B = np.array([[2,3],[5,7],[11,13]])"
      ],
      "execution_count": 2,
      "outputs": []
    },
    {
      "cell_type": "code",
      "metadata": {
        "colab": {
          "base_uri": "https://localhost:8080/"
        },
        "id": "i0rX364mu9nx",
        "outputId": "bdd37a8b-bd7e-4b05-959b-f2a7bc7f1076"
      },
      "source": [
        "print(A)\n",
        "print(\"\\n\")\n",
        "print(A.shape)"
      ],
      "execution_count": 5,
      "outputs": [
        {
          "output_type": "stream",
          "name": "stdout",
          "text": [
            "[[ 1  2  3]\n",
            " [ 4  5  6]\n",
            " [ 7  8  9]\n",
            " [10 11 12]]\n",
            "\n",
            "\n",
            "(4, 3)\n"
          ]
        }
      ]
    },
    {
      "cell_type": "code",
      "metadata": {
        "colab": {
          "base_uri": "https://localhost:8080/"
        },
        "id": "SL7WjQf7u-u8",
        "outputId": "1c5f2534-4d1b-4a41-a24f-06ad562b4945"
      },
      "source": [
        "print(B)\n",
        "print(\"\\n\")\n",
        "print(B.shape)"
      ],
      "execution_count": 6,
      "outputs": [
        {
          "output_type": "stream",
          "name": "stdout",
          "text": [
            "[[ 2  3]\n",
            " [ 5  7]\n",
            " [11 13]]\n",
            "\n",
            "\n",
            "(3, 2)\n"
          ]
        }
      ]
    },
    {
      "cell_type": "code",
      "metadata": {
        "colab": {
          "base_uri": "https://localhost:8080/"
        },
        "id": "3Ho6ev7gvRv8",
        "outputId": "ea396884-5b3f-4e1c-b611-938cf7e801b3"
      },
      "source": [
        "C = A.dot(B)\n",
        "print(C)"
      ],
      "execution_count": 8,
      "outputs": [
        {
          "output_type": "stream",
          "name": "stdout",
          "text": [
            "[[ 45  56]\n",
            " [ 99 125]\n",
            " [153 194]\n",
            " [207 263]]\n"
          ]
        }
      ]
    },
    {
      "cell_type": "code",
      "metadata": {
        "id": "KPJnP71MvaY3"
      },
      "source": [
        "# D = B.dot(A) # ValueError: shapes (3,2) and (4,3) not aligned: 2 (dim 1) != 4 (dim 0)\n",
        "# Para poder hacer el producto de dos matrices debe estar alineado la cantidad de columnas de la primera matriz y la cantidad de filas de la segunda matriz\n",
        "# la resultante será una matriz de tantas filas como la primera matriz y de tantas columnas como la segunda\n",
        "# el orden de multiplicado es: 1 fila de matriz uno por 1 columna de matriz 2 da como resultado el escalar [0][0] de mi \n",
        "# nueva matriz. 1 fila de matriz 1 por 2 columna de matriz 2 da como resultado el escalar [0][1] de la nueva \n",
        "# matriz. 2 fila de matriz uno por columna 1 de matriz dos da como resultado el escalar [1][0] de la nueva matriz\n"
      ],
      "execution_count": 11,
      "outputs": []
    }
  ]
}