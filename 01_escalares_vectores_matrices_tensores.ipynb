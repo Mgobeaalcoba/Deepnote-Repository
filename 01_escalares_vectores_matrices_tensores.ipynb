{
  "nbformat": 4,
  "nbformat_minor": 5,
  "metadata": {
    "kernelspec": {
      "display_name": "Python 3.8.8 64-bit ('base': conda)",
      "language": "python",
      "name": "python388jvsc74a57bd08e4836ace6ef49a5d3397e8f8f0a202723a9f44a7e3c83a7ef00426bbe892406"
    },
    "language_info": {
      "codemirror_mode": {
        "name": "ipython",
        "version": 3
      },
      "file_extension": ".py",
      "mimetype": "text/x-python",
      "name": "python",
      "nbconvert_exporter": "python",
      "pygments_lexer": "ipython3",
      "version": "3.8.8"
    },
    "colab": {
      "name": "01 escalares vectores matrices tensores.ipynb",
      "provenance": [],
      "include_colab_link": true
    }
  },
  "cells": [
    {
      "cell_type": "markdown",
      "metadata": {
        "id": "view-in-github",
        "colab_type": "text"
      },
      "source": [
        "<a href=\"https://colab.research.google.com/github/Mgobeaalcoba/Deepnote_Repository/blob/main/01_escalares_vectores_matrices_tensores.ipynb\" target=\"_parent\"><img src=\"https://colab.research.google.com/assets/colab-badge.svg\" alt=\"Open In Colab\"/></a>"
      ]
    },
    {
      "cell_type": "code",
      "metadata": {
        "id": "aeb50d2d",
        "outputId": "f48892a4-15b7-4053-e169-1b1c7e9181ee"
      },
      "source": [
        "escalar = 5.678\n",
        "print(escalar)"
      ],
      "id": "aeb50d2d",
      "execution_count": null,
      "outputs": [
        {
          "name": "stdout",
          "output_type": "stream",
          "text": [
            "5.678\n"
          ]
        }
      ]
    },
    {
      "cell_type": "markdown",
      "metadata": {
        "id": "4736ab12"
      },
      "source": [
        "un escalar puede ser entero, flotante, string, o nada"
      ],
      "id": "4736ab12"
    },
    {
      "cell_type": "code",
      "metadata": {
        "id": "0c9d031c",
        "outputId": "1706d3bf-e669-446d-9766-ed3015aa0dcf"
      },
      "source": [
        "escalar_python = True\n",
        "print(escalar_python)\n",
        "print(type(escalar_python)) #Type me indica el tipo de la variable que estoy trabajando"
      ],
      "id": "0c9d031c",
      "execution_count": null,
      "outputs": [
        {
          "name": "stdout",
          "output_type": "stream",
          "text": [
            "True\n",
            "<class 'bool'>\n"
          ]
        }
      ]
    },
    {
      "cell_type": "markdown",
      "metadata": {
        "id": "b9995faa"
      },
      "source": [
        "vector es un conjunto de numeros o de escalares tiene un grado de libertad\n",
        "matriz es un conjunto de vectores y tiene 2 grados de libertad. Me puedo mover entre filas y columnas\n",
        "tensor es un conjunto 3d de vectores y tiene 3 o mas grados de libertad. Me puedo mover entre filas, columnas o en profundidades"
      ],
      "id": "b9995faa"
    },
    {
      "cell_type": "code",
      "metadata": {
        "id": "611519f2"
      },
      "source": [
        "import numpy as np"
      ],
      "id": "611519f2",
      "execution_count": null,
      "outputs": []
    },
    {
      "cell_type": "code",
      "metadata": {
        "id": "18ec47d0",
        "outputId": "a8fd075b-418f-4aff-fbdf-7a771c9198bf"
      },
      "source": [
        "vector = np.array([1,2,3,4])\n",
        "print(vector)"
      ],
      "id": "18ec47d0",
      "execution_count": null,
      "outputs": [
        {
          "name": "stdout",
          "output_type": "stream",
          "text": [
            "[1 2 3 4]\n"
          ]
        }
      ]
    },
    {
      "cell_type": "code",
      "metadata": {
        "id": "49598916",
        "outputId": "b5040c9f-1ee7-4902-a891-d240a20ec157"
      },
      "source": [
        "matriz = np.array([[1,2,3],[4,5,6],[7,8,9]])\n",
        "print(matriz)"
      ],
      "id": "49598916",
      "execution_count": null,
      "outputs": [
        {
          "name": "stdout",
          "output_type": "stream",
          "text": [
            "[[1 2 3]\n",
            " [4 5 6]\n",
            " [7 8 9]]\n"
          ]
        }
      ]
    },
    {
      "cell_type": "code",
      "metadata": {
        "id": "c7fa4f8b",
        "outputId": "32ae9bdf-dabb-4d81-9905-090f4aa43d11"
      },
      "source": [
        "tensor = np.array([[[1,2,3],[4,5,6],[7,8,9]],[[10,11,12],[13,14,15],[16,17,18]],[[19,20,21],[22,23,24],[25,26,27]]])\n",
        "print(tensor)"
      ],
      "id": "c7fa4f8b",
      "execution_count": null,
      "outputs": [
        {
          "name": "stdout",
          "output_type": "stream",
          "text": [
            "[[[ 1  2  3]\n",
            "  [ 4  5  6]\n",
            "  [ 7  8  9]]\n",
            "\n",
            " [[10 11 12]\n",
            "  [13 14 15]\n",
            "  [16 17 18]]\n",
            "\n",
            " [[19 20 21]\n",
            "  [22 23 24]\n",
            "  [25 26 27]]]\n"
          ]
        }
      ]
    },
    {
      "cell_type": "code",
      "metadata": {
        "id": "2591a275"
      },
      "source": [
        "import matplotlib.pyplot as plt"
      ],
      "id": "2591a275",
      "execution_count": null,
      "outputs": []
    },
    {
      "cell_type": "code",
      "metadata": {
        "id": "97afc7fe",
        "outputId": "af1414e7-9a1c-4ac3-bdc2-5789c6cb5307"
      },
      "source": [
        "plt.imshow(tensor , interpolation = \"nearest\")\n",
        "plt.show()"
      ],
      "id": "97afc7fe",
      "execution_count": null,
      "outputs": [
        {
          "data": {
            "image/png": "[encoded data removed]",
            "text/plain": [
              "<Figure size 432x288 with 1 Axes>"
            ]
          },
          "metadata": {
            "needs_background": "light"
          },
          "output_type": "display_data"
        }
      ]
    },
    {
      "cell_type": "markdown",
      "metadata": {
        "id": "6c8cd9ce"
      },
      "source": [
        "Graficar un tensor que tenga en su primera fila blanco, en la segunda fila negro y en la tercera fila gris"
      ],
      "id": "6c8cd9ce"
    },
    {
      "cell_type": "code",
      "metadata": {
        "id": "82dd8e0f",
        "outputId": "a08542b0-9a29-4ea2-d7c8-517edd9d8606"
      },
      "source": [
        "tensor2 = np.array([[[1000,1000,1000],[1000,1000,1000],[1000,1000,1000]],[[1,1,1],[1,1,1],[1,1,1]],[[50,50,50],[50,50,50],[50,50,50]]])\n",
        "print(tensor2)"
      ],
      "id": "82dd8e0f",
      "execution_count": null,
      "outputs": [
        {
          "name": "stdout",
          "output_type": "stream",
          "text": [
            "[[[1000 1000 1000]\n",
            "  [1000 1000 1000]\n",
            "  [1000 1000 1000]]\n",
            "\n",
            " [[   1    1    1]\n",
            "  [   1    1    1]\n",
            "  [   1    1    1]]\n",
            "\n",
            " [[  50   50   50]\n",
            "  [  50   50   50]\n",
            "  [  50   50   50]]]\n"
          ]
        }
      ]
    },
    {
      "cell_type": "code",
      "metadata": {
        "id": "1972a990",
        "outputId": "57c2da16-2ad3-43f0-a004-09bc7b209caf"
      },
      "source": [
        "plt.imshow(tensor2, interpolation = \"nearest\")\n",
        "plt.show()"
      ],
      "id": "1972a990",
      "execution_count": null,
      "outputs": [
        {
          "name": "stderr",
          "output_type": "stream",
          "text": [
            "Clipping input data to the valid range for imshow with RGB data ([0..1] for floats or [0..255] for integers).\n"
          ]
        },
        {
          "data": {
            "image/png": "[encoded data removed]",
            "text/plain": [
              "<Figure size 432x288 with 1 Axes>"
            ]
          },
          "metadata": {
            "needs_background": "light"
          },
          "output_type": "display_data"
        }
      ]
    },
    {
      "cell_type": "code",
      "metadata": {
        "id": "a82153c6"
      },
      "source": [
        ""
      ],
      "id": "a82153c6",
      "execution_count": null,
      "outputs": []
    }
  ]
}