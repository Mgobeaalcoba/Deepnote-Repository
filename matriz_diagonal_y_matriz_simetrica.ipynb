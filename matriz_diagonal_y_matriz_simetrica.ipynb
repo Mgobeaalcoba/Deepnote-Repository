{
  "nbformat": 4,
  "nbformat_minor": 0,
  "metadata": {
    "colab": {
      "name": "matriz diagonal y matriz simetrica.ipynb",
      "provenance": [],
      "authorship_tag": "ABX9TyMG3VZQmVGHUsPECcHQYcSw",
      "include_colab_link": true
    },
    "kernelspec": {
      "name": "python3",
      "display_name": "Python 3"
    },
    "language_info": {
      "name": "python"
    }
  },
  "cells": [
    {
      "cell_type": "markdown",
      "metadata": {
        "id": "view-in-github",
        "colab_type": "text"
      },
      "source": [
        "<a href=\"https://colab.research.google.com/github/Mgobeaalcoba/Deepnote_Repository/blob/main/matriz_diagonal_y_matriz_simetrica.ipynb\" target=\"_parent\"><img src=\"https://colab.research.google.com/assets/colab-badge.svg\" alt=\"Open In Colab\"/></a>"
      ]
    },
    {
      "cell_type": "markdown",
      "metadata": {
        "id": "cH8jV7F7ABKn"
      },
      "source": [
        "**Matrices especiales: Matriz identidad (con 1111 en su diagonal principal. Matriz inversa: Es la matriz elevada a la -1. Si una matriz la multiplico por su inversa, obtengo la matriz identidad. Matriz Singular: Aquella tal que no existe su inversa. Ahora veamos las matrices diagonales y simetricas**"
      ]
    },
    {
      "cell_type": "code",
      "metadata": {
        "id": "yqpU1_OdAgmA"
      },
      "source": [
        "import numpy as np"
      ],
      "execution_count": 1,
      "outputs": []
    },
    {
      "cell_type": "code",
      "metadata": {
        "colab": {
          "base_uri": "https://localhost:8080/"
        },
        "id": "s-nRsAFZAm_G",
        "outputId": "8bcb8a1c-8b87-44aa-da51-67f6a0eed163"
      },
      "source": [
        "vector = np.array([1,2,3,4,5])\n",
        "\n",
        "matriz = np.diag(vector)\n",
        "\n",
        "print(matriz)"
      ],
      "execution_count": 3,
      "outputs": [
        {
          "output_type": "stream",
          "name": "stdout",
          "text": [
            "[[1 0 0 0 0]\n",
            " [0 2 0 0 0]\n",
            " [0 0 3 0 0]\n",
            " [0 0 0 4 0]\n",
            " [0 0 0 0 5]]\n"
          ]
        }
      ]
    },
    {
      "cell_type": "markdown",
      "metadata": {
        "id": "KyYlNwxdAxQ2"
      },
      "source": [
        "Es una matriz con todos elementos distintos de 0 en la diagonal y 0 fuera de ella. No solo pueden ser cuadradas. Veamos ejemplos"
      ]
    },
    {
      "cell_type": "code",
      "metadata": {
        "colab": {
          "base_uri": "https://localhost:8080/"
        },
        "id": "eTA4KrvlA7dW",
        "outputId": "5598305b-a439-412a-e78d-6d29627af795"
      },
      "source": [
        "print(matriz[0:4,0:3]) # Recorto las 4 primeras filas y las 3 primeras columnas"
      ],
      "execution_count": 5,
      "outputs": [
        {
          "output_type": "stream",
          "name": "stdout",
          "text": [
            "[[1 0 0]\n",
            " [0 2 0]\n",
            " [0 0 3]\n",
            " [0 0 0]]\n"
          ]
        }
      ]
    },
    {
      "cell_type": "markdown",
      "metadata": {
        "id": "fmDXGusUBGU-"
      },
      "source": [
        "Es diagonal pero no cuadrada"
      ]
    },
    {
      "cell_type": "code",
      "metadata": {
        "colab": {
          "base_uri": "https://localhost:8080/"
        },
        "id": "SujzyQQSBILw",
        "outputId": "c253bf65-cf80-4861-a5a8-0987f9c8954f"
      },
      "source": [
        "print(matriz[0:3,0:4]) # Recorte inverso al anterior. 3 filas y 4 columnas"
      ],
      "execution_count": 6,
      "outputs": [
        {
          "output_type": "stream",
          "name": "stdout",
          "text": [
            "[[1 0 0 0]\n",
            " [0 2 0 0]\n",
            " [0 0 3 0]]\n"
          ]
        }
      ]
    },
    {
      "cell_type": "markdown",
      "metadata": {
        "id": "Wjb8yN8XBQtP"
      },
      "source": [
        "Tmb es diagonal. \n",
        "Propiedad importante de las matrices diagonales: \n",
        "Cuando multiplico una diagonal por un vector no está haciendo realmente una combinación lineal de las distintas coordenadas. "
      ]
    },
    {
      "cell_type": "code",
      "metadata": {
        "colab": {
          "base_uri": "https://localhost:8080/"
        },
        "id": "DtdYvxs_Bitf",
        "outputId": "ed5bd64b-9133-4657-bef2-c0209d237e6f"
      },
      "source": [
        "A = np.diag([2,3,4,5])\n",
        "print(A)"
      ],
      "execution_count": 9,
      "outputs": [
        {
          "output_type": "stream",
          "name": "stdout",
          "text": [
            "[[2 0 0 0]\n",
            " [0 3 0 0]\n",
            " [0 0 4 0]\n",
            " [0 0 0 5]]\n"
          ]
        }
      ]
    },
    {
      "cell_type": "code",
      "metadata": {
        "id": "BGJQo4UVBSHn"
      },
      "source": [
        "v1 = np.array([[1,1,1,1]]) # Vector columna"
      ],
      "execution_count": 18,
      "outputs": []
    },
    {
      "cell_type": "code",
      "metadata": {
        "colab": {
          "base_uri": "https://localhost:8080/"
        },
        "id": "Cai4VBUrBzBW",
        "outputId": "f16595f3-03c1-467f-a56b-f53d7cd33e11"
      },
      "source": [
        "print(v1)"
      ],
      "execution_count": 19,
      "outputs": [
        {
          "output_type": "stream",
          "name": "stdout",
          "text": [
            "[[1 1 1 1]]\n"
          ]
        }
      ]
    },
    {
      "cell_type": "code",
      "metadata": {
        "colab": {
          "base_uri": "https://localhost:8080/"
        },
        "id": "dbC79oJxB8Df",
        "outputId": "68e06e94-ba99-4b7f-c93c-893c74743f8a"
      },
      "source": [
        "print(A.dot(v1.T)) # Traspongo v1 porque sino no puedo hacer el producto"
      ],
      "execution_count": 20,
      "outputs": [
        {
          "output_type": "stream",
          "name": "stdout",
          "text": [
            "[[2]\n",
            " [3]\n",
            " [4]\n",
            " [5]]\n"
          ]
        }
      ]
    },
    {
      "cell_type": "markdown",
      "metadata": {
        "id": "oXuzJvgKCdMW"
      },
      "source": [
        "No hubo combinación lineal y solo nos quedaron amplificados los componentes del vector columna. \n",
        "¿Como calculo su inversa? \n",
        "Sería dividir los elementos de mi vector por el elemento que estoy multiplicando."
      ]
    },
    {
      "cell_type": "code",
      "metadata": {
        "colab": {
          "base_uri": "https://localhost:8080/"
        },
        "id": "IP0SHa4DC0F1",
        "outputId": "ee235071-78b5-4653-8316-37fe3238befd"
      },
      "source": [
        "A_inv = np.diag([1/2,1/3,1/4,1/5]) # Esta seria la inversa de A\n",
        "print(A_inv)"
      ],
      "execution_count": 29,
      "outputs": [
        {
          "output_type": "stream",
          "name": "stdout",
          "text": [
            "[[0.5        0.         0.         0.        ]\n",
            " [0.         0.33333333 0.         0.        ]\n",
            " [0.         0.         0.25       0.        ]\n",
            " [0.         0.         0.         0.2       ]]\n"
          ]
        }
      ]
    },
    {
      "cell_type": "markdown",
      "metadata": {
        "id": "iMq9Pc30DBT9"
      },
      "source": [
        "¿Como podemos probar que es la inversa? Hagamos el producto interno de A por su inversa y nos debería arrojar la identidad"
      ]
    },
    {
      "cell_type": "code",
      "metadata": {
        "colab": {
          "base_uri": "https://localhost:8080/"
        },
        "id": "1ebWvn3jDAmu",
        "outputId": "f81137b5-ddc6-4cd3-dcb2-ab098834f039"
      },
      "source": [
        "identidad = A.dot(A_inv)\n",
        "print(identidad)"
      ],
      "execution_count": 27,
      "outputs": [
        {
          "output_type": "stream",
          "name": "stdout",
          "text": [
            "[[1. 0. 0. 0.]\n",
            " [0. 1. 0. 0.]\n",
            " [0. 0. 1. 0.]\n",
            " [0. 0. 0. 1.]]\n"
          ]
        }
      ]
    },
    {
      "cell_type": "markdown",
      "metadata": {
        "id": "DT1LM_nyDZWk"
      },
      "source": [
        "Es la inversa y matematicamente tiene sus beneficios"
      ]
    },
    {
      "cell_type": "code",
      "metadata": {
        "colab": {
          "base_uri": "https://localhost:8080/"
        },
        "id": "FH8Lt8aZDf2e",
        "outputId": "0ffa73d2-dc20-4266-fc88-2532e725e990"
      },
      "source": [
        "A_inv_calc = np.linalg.inv(A)\n",
        "print(A_inv_calc)"
      ],
      "execution_count": 28,
      "outputs": [
        {
          "output_type": "stream",
          "name": "stdout",
          "text": [
            "[[0.5        0.         0.         0.        ]\n",
            " [0.         0.33333333 0.         0.        ]\n",
            " [0.         0.         0.25       0.        ]\n",
            " [0.         0.         0.         0.2       ]]\n"
          ]
        }
      ]
    },
    {
      "cell_type": "markdown",
      "metadata": {
        "id": "VRIeDtrYDs7z"
      },
      "source": [
        "Veamos ahora que es una matriz simétrica: \n",
        "Es cuando la matriz es igual a su matriz traspuesta. Que es la matriz traspuesta? Es la misma matriz con sus filas y columnas invertidad. Entonces cualquier matriz diagonal es simétrica, porque tiene todos 0 debajos y todos 0 arriba de su diagonal principal"
      ]
    },
    {
      "cell_type": "code",
      "metadata": {
        "colab": {
          "base_uri": "https://localhost:8080/"
        },
        "id": "_RzLV7ehED-N",
        "outputId": "0870d306-d9a8-439c-e369-4611ff0687fb"
      },
      "source": [
        "print(A.T)\n",
        "print(A)"
      ],
      "execution_count": 31,
      "outputs": [
        {
          "output_type": "stream",
          "name": "stdout",
          "text": [
            "[[2 0 0 0]\n",
            " [0 3 0 0]\n",
            " [0 0 4 0]\n",
            " [0 0 0 5]]\n",
            "[[2 0 0 0]\n",
            " [0 3 0 0]\n",
            " [0 0 4 0]\n",
            " [0 0 0 5]]\n"
          ]
        }
      ]
    },
    {
      "cell_type": "markdown",
      "metadata": {
        "id": "6PMWcjTuEKVz"
      },
      "source": [
        "Son simetricas"
      ]
    },
    {
      "cell_type": "code",
      "metadata": {
        "colab": {
          "base_uri": "https://localhost:8080/"
        },
        "id": "hfqJeKXdEN78",
        "outputId": "1f3d6f07-cc1f-435d-bd4c-4117ca5d7093"
      },
      "source": [
        "# Veamos un ejemplo de simetria en matrices no diagonales\n",
        "\n",
        "simetrica = np.array([[1,2,3],\n",
        "                      [2,-1,7],\n",
        "                      [3,7,11]])\n",
        "\n",
        "print(simetrica)\n",
        "print(simetrica.T)\n",
        "print(simetrica == simetrica.T)"
      ],
      "execution_count": 33,
      "outputs": [
        {
          "output_type": "stream",
          "name": "stdout",
          "text": [
            "[[ 1  2  3]\n",
            " [ 2 -1  7]\n",
            " [ 3  7 11]]\n",
            "[[ 1  2  3]\n",
            " [ 2 -1  7]\n",
            " [ 3  7 11]]\n",
            "[[ True  True  True]\n",
            " [ True  True  True]\n",
            " [ True  True  True]]\n"
          ]
        }
      ]
    },
    {
      "cell_type": "markdown",
      "metadata": {
        "id": "KUFOYdhKEp1H"
      },
      "source": [
        "Es simetrica entonces tmb."
      ]
    }
  ]
}