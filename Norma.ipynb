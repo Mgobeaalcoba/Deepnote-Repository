{
  "nbformat": 4,
  "nbformat_minor": 0,
  "metadata": {
    "colab": {
      "name": "Norma.ipynb",
      "provenance": [],
      "authorship_tag": "ABX9TyNi14L5Uo+6HztJJwmy0bub",
      "include_colab_link": true
    },
    "kernelspec": {
      "name": "python3",
      "display_name": "Python 3"
    },
    "language_info": {
      "name": "python"
    }
  },
  "cells": [
    {
      "cell_type": "markdown",
      "metadata": {
        "id": "view-in-github",
        "colab_type": "text"
      },
      "source": [
        "<a href=\"https://colab.research.google.com/github/Mgobeaalcoba/Deepnote_Repository/blob/main/Norma.ipynb\" target=\"_parent\"><img src=\"https://colab.research.google.com/assets/colab-badge.svg\" alt=\"Open In Colab\"/></a>"
      ]
    },
    {
      "cell_type": "markdown",
      "metadata": {
        "id": "ES6Tkdqv9JoK"
      },
      "source": [
        "Norma: funcion para medir el tamaño de un vector y le asigna un numero mayor a 0.\n",
        "Norma mas habitual: mide la distancia de un punto al origen. Es 0 si y solo si el vector es 0.\n",
        "Si tenemos dos vectores (v1 y v2) y realizamos la suma de ambos y calculamos la norma de v3 es menor o igual a la suma de las normas de v1 y v2.\n",
        "la norma de un escalar por un vector es igual al valor absoluto del escalar por la norma del vector original. \n",
        "\n",
        "Veamos como calculamos la norma en python:"
      ]
    },
    {
      "cell_type": "code",
      "metadata": {
        "id": "kpArVwoA-Enm"
      },
      "source": [
        "import numpy as np\n",
        "import matplotlib.pyplot as plt\n",
        "import seaborn as sns # para utilizar su paleta de colores para graficar"
      ],
      "execution_count": 2,
      "outputs": []
    },
    {
      "cell_type": "code",
      "metadata": {
        "colab": {
          "base_uri": "https://localhost:8080/"
        },
        "id": "pITpiT4w-QoD",
        "outputId": "9c556c81-0b37-4572-b6bd-545fa582c6e1"
      },
      "source": [
        "v1 = np.array([2,7])\n",
        "v2 = np.array([3,5])\n",
        "\n",
        "print(v1)\n",
        "print(v2)"
      ],
      "execution_count": 3,
      "outputs": [
        {
          "output_type": "stream",
          "name": "stdout",
          "text": [
            "[2 7]\n",
            "[3 5]\n"
          ]
        }
      ]
    },
    {
      "cell_type": "code",
      "metadata": {
        "id": "hOqz2gMq-Yf-"
      },
      "source": [
        "v1v2 = v1+v2"
      ],
      "execution_count": 4,
      "outputs": []
    },
    {
      "cell_type": "code",
      "metadata": {
        "colab": {
          "base_uri": "https://localhost:8080/"
        },
        "id": "2lBZj1NY-b3V",
        "outputId": "d40121ef-b3df-418f-f587-171b0f5fc89e"
      },
      "source": [
        "print(v1v2)"
      ],
      "execution_count": 5,
      "outputs": [
        {
          "output_type": "stream",
          "name": "stdout",
          "text": [
            "[ 5 12]\n"
          ]
        }
      ]
    },
    {
      "cell_type": "markdown",
      "metadata": {
        "id": "a4bDKbQQ-eH0"
      },
      "source": [
        "Para calcular la norma usamos la función de numpy np.linalg.norm(v1v2)"
      ]
    },
    {
      "cell_type": "code",
      "metadata": {
        "colab": {
          "base_uri": "https://localhost:8080/"
        },
        "id": "CGwndY_L-jpa",
        "outputId": "7f492594-4ee4-49a5-8299-2bca20cbc5db"
      },
      "source": [
        "np.linalg.norm(v1v2)"
      ],
      "execution_count": 6,
      "outputs": [
        {
          "output_type": "execute_result",
          "data": {
            "text/plain": [
              "13.0"
            ]
          },
          "metadata": {},
          "execution_count": 6
        }
      ]
    },
    {
      "cell_type": "code",
      "metadata": {
        "colab": {
          "base_uri": "https://localhost:8080/"
        },
        "id": "69kOl43t-ngn",
        "outputId": "30774c28-2159-46c7-88ba-d09be3132ed4"
      },
      "source": [
        "# norma(v1v2) <= norma(v1) + norma(v2)\n",
        "\n",
        "# A esto lo llamamos desigualdad triangular\n",
        "\n",
        "norma_v1 = np.linalg.norm(v1)\n",
        "norma_v2 = np.linalg.norm(v2)\n",
        "norma_v1v2 = np.linalg.norm(v1v2)\n",
        "\n",
        "print(norma_v1)\n",
        "print(norma_v2)\n",
        "print(norma_v1v2)\n",
        "\n",
        "print(norma_v1 + norma_v2)\n",
        "\n",
        "print(norma_v1v2 <= norma_v1 + norma_v2)\n"
      ],
      "execution_count": 8,
      "outputs": [
        {
          "output_type": "stream",
          "name": "stdout",
          "text": [
            "7.280109889280518\n",
            "5.830951894845301\n",
            "13.0\n",
            "13.11106178412582\n",
            "True\n"
          ]
        }
      ]
    },
    {
      "cell_type": "markdown",
      "metadata": {
        "id": "EdNrWY1Z_bxU"
      },
      "source": [
        "En el único caso donde la desigualdad triangular adquiere la igualdad es cuando los tres vectores están uno sobre el otro"
      ]
    },
    {
      "cell_type": "code",
      "metadata": {
        "id": "unrsGNDo_qzC"
      },
      "source": [
        "v1 = np.array([0,0,2,7]) # incluimos en el vector lo que es el origen del vector\n",
        "# y lo que es el final del vector\n",
        "v2 = np.array([0,0,3,5])\n",
        "\n",
        "v1_aux = np.array([v1[2],v1[3],v2[2],v2[3]]) # El auxiliar es una traslación del vector v2.\n",
        "# Es decir, va a arrancar donde termina el vector v1 y va a marcar desde allí el \n",
        "# mismo trazo que el vector v2\n",
        "v1v2 = np.array([0,0,5,12])"
      ],
      "execution_count": 11,
      "outputs": []
    },
    {
      "cell_type": "code",
      "metadata": {
        "colab": {
          "base_uri": "https://localhost:8080/",
          "height": 282
        },
        "id": "RT-gc22cBkMK",
        "outputId": "1d933d05-7cab-47e4-e948-f1f149da96e2"
      },
      "source": [
        "plt.quiver([v1[0],v2[0],v1v2[0]],\n",
        "           [v1[1],v2[1],v1v2[1]],\n",
        "           [v1[2],v2[2],v1v2[2]],\n",
        "           [v1[3],v2[3],v1v2[3]],\n",
        "           angles = \"xy\",\n",
        "           scale_units = \"xy\",\n",
        "           scale = 1,\n",
        "           color = sns.color_palette()\n",
        "           ) # primer tira que queremos graficar\n",
        "\n",
        "plt.xlim(-0.5,6)\n",
        "plt.ylim(-0.5,15)"
      ],
      "execution_count": 14,
      "outputs": [
        {
          "output_type": "execute_result",
          "data": {
            "text/plain": [
              "(-0.5, 15.0)"
            ]
          },
          "metadata": {},
          "execution_count": 14
        },
        {
          "output_type": "display_data",
          "data": {
            "image/png": "[encoded data removed]",
            "text/plain": [
              "<Figure size 432x288 with 1 Axes>"
            ]
          },
          "metadata": {
            "needs_background": "light"
          }
        }
      ]
    },
    {
      "cell_type": "code",
      "metadata": {
        "colab": {
          "base_uri": "https://localhost:8080/",
          "height": 282
        },
        "id": "pB2g4r9_ATDs",
        "outputId": "1e747278-ce56-455a-f6ca-f76c07823b1c"
      },
      "source": [
        "plt.quiver([v1[0],v1_aux[0],v1v2[0]],\n",
        "           [v1[1],v1_aux[1],v1v2[1]],\n",
        "           [v1[2],v1_aux[2],v1v2[2]],\n",
        "           [v1[3],v1_aux[3],v1v2[3]],\n",
        "           angles = \"xy\",\n",
        "           scale_units = \"xy\",\n",
        "           scale = 1,\n",
        "           color = sns.color_palette()\n",
        "           ) # primer tira que queremos graficar\n",
        "\n",
        "plt.xlim(-0.5,6)\n",
        "plt.ylim(-0.5,15)"
      ],
      "execution_count": 12,
      "outputs": [
        {
          "output_type": "execute_result",
          "data": {
            "text/plain": [
              "(-0.5, 15.0)"
            ]
          },
          "metadata": {},
          "execution_count": 12
        },
        {
          "output_type": "display_data",
          "data": {
            "image/png": "[encoded data removed]",
            "text/plain": [
              "<Figure size 432x288 with 1 Axes>"
            ]
          },
          "metadata": {
            "needs_background": "light"
          }
        }
      ]
    },
    {
      "cell_type": "markdown",
      "metadata": {
        "id": "J4BCcRMaB_M4"
      },
      "source": [
        "Uniendo entonces el primer punto del v1 con el ultimo punto del v1_aux (traslación de v2) puedo obtener el recorrido mas corto para el mismo trayecto en forma de recta, que no es mas que la suma de ambos vectores originales (v1+v2). \n",
        "\n",
        "Entonces aquí vemos graficamente en que consiste la desigualdad triangular. :)"
      ]
    }
  ]
}