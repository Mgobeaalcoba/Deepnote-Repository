{
  "nbformat": 4,
  "nbformat_minor": 0,
  "metadata": {
    "colab": {
      "name": "Dimensiones escalara, vector, matriz o tensor.ipynb",
      "provenance": [],
      "authorship_tag": "ABX9TyMSMViFKrzGjzE6wDyw6fRn",
      "include_colab_link": true
    },
    "kernelspec": {
      "name": "python3",
      "display_name": "Python 3"
    },
    "language_info": {
      "name": "python"
    }
  },
  "cells": [
    {
      "cell_type": "markdown",
      "metadata": {
        "id": "view-in-github",
        "colab_type": "text"
      },
      "source": [
        "<a href=\"https://colab.research.google.com/github/Mgobeaalcoba/Deepnote_Repository/blob/main/Dimensiones_escalara%2C_vector%2C_matriz_o_tensor.ipynb\" target=\"_parent\"><img src=\"https://colab.research.google.com/assets/colab-badge.svg\" alt=\"Open In Colab\"/></a>"
      ]
    },
    {
      "cell_type": "code",
      "metadata": {
        "id": "LzqRd6ewHNvj"
      },
      "source": [
        "import numpy as np"
      ],
      "execution_count": 1,
      "outputs": []
    },
    {
      "cell_type": "code",
      "metadata": {
        "id": "Qm4ZBaMQHYNH"
      },
      "source": [
        "escalar = 5.679\n",
        "vector = np.array([1,2,3])\n",
        "matriz = np.array([[1,2,3],[4,5,6],[7,8,9]])\n",
        "tensor = np.array([[[1,2,3],[4,5,6],[7,8,9]],[[10,11,12],[13,14,15],[16,17,18]],[[19,20,21],[22,23,24],[25,26,27]]])"
      ],
      "execution_count": 6,
      "outputs": []
    },
    {
      "cell_type": "code",
      "metadata": {
        "colab": {
          "base_uri": "https://localhost:8080/"
        },
        "id": "x6D_dOmLH-Im",
        "outputId": "f7ff866e-136d-415c-e721-02d215249eb1"
      },
      "source": [
        "print(escalar)\n",
        "print(\"\\n\")\n",
        "print(vector)\n",
        "print(\"\\n\")\n",
        "print(matriz)\n",
        "print(\"\\n\")\n",
        "print(tensor)"
      ],
      "execution_count": 8,
      "outputs": [
        {
          "output_type": "stream",
          "name": "stdout",
          "text": [
            "5.679\n",
            "\n",
            "\n",
            "[1 2 3]\n",
            "\n",
            "\n",
            "[[1 2 3]\n",
            " [4 5 6]\n",
            " [7 8 9]]\n",
            "\n",
            "\n",
            "[[[ 1  2  3]\n",
            "  [ 4  5  6]\n",
            "  [ 7  8  9]]\n",
            "\n",
            " [[10 11 12]\n",
            "  [13 14 15]\n",
            "  [16 17 18]]\n",
            "\n",
            " [[19 20 21]\n",
            "  [22 23 24]\n",
            "  [25 26 27]]]\n"
          ]
        }
      ]
    },
    {
      "cell_type": "code",
      "metadata": {
        "colab": {
          "base_uri": "https://localhost:8080/"
        },
        "id": "XMQ8WSr6IFau",
        "outputId": "a408603c-9921-4f2b-f1d8-9667c942e2b1"
      },
      "source": [
        "# print(escalar.shape) Un escalar no tiene atributo shape. Es decir no tiene dimensiones ya que está compuesto por un único numero\n",
        "print(vector.shape)\n",
        "print(matriz.shape)\n",
        "print(tensor.shape)"
      ],
      "execution_count": 9,
      "outputs": [
        {
          "output_type": "stream",
          "name": "stdout",
          "text": [
            "(3,)\n",
            "(3, 3)\n",
            "(3, 3, 3)\n"
          ]
        }
      ]
    },
    {
      "cell_type": "code",
      "metadata": {
        "colab": {
          "base_uri": "https://localhost:8080/"
        },
        "id": "MGLt2kHHIxTe",
        "outputId": "7e088e99-995b-4238-852c-81ba350f774c"
      },
      "source": [
        "len(tensor) # Solo nos indica la cantidad de conjuntos primarios. No las dimensiones detalladas como el shape. Por lo que conviene el shape para medir vectores, matrices y tensores"
      ],
      "execution_count": 12,
      "outputs": [
        {
          "output_type": "execute_result",
          "data": {
            "text/plain": [
              "3"
            ]
          },
          "metadata": {},
          "execution_count": 12
        }
      ]
    },
    {
      "cell_type": "code",
      "metadata": {
        "colab": {
          "base_uri": "https://localhost:8080/"
        },
        "id": "G3xcPQLWI27D",
        "outputId": "01aa0514-e7ca-41d3-e6ed-102a2f7769f5"
      },
      "source": [
        "print(tensor.size) # Nos mide la cantidad total de escalares que componen el vector, matriz o tensor. Esta muy bueno! \n",
        "print(\"\\n\")\n",
        "print(matriz.size)"
      ],
      "execution_count": 14,
      "outputs": [
        {
          "output_type": "stream",
          "name": "stdout",
          "text": [
            "27\n",
            "\n",
            "\n",
            "9\n"
          ]
        }
      ]
    }
  ]
}