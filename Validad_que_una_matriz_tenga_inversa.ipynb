{
  "nbformat": 4,
  "nbformat_minor": 0,
  "metadata": {
    "colab": {
      "name": "Validad que una matriz tenga inversa.ipynb",
      "provenance": [],
      "authorship_tag": "ABX9TyOUJLWQkST8RcIIgsEtbW+q",
      "include_colab_link": true
    },
    "kernelspec": {
      "name": "python3",
      "display_name": "Python 3"
    },
    "language_info": {
      "name": "python"
    }
  },
  "cells": [
    {
      "cell_type": "markdown",
      "metadata": {
        "id": "view-in-github",
        "colab_type": "text"
      },
      "source": [
        "<a href=\"https://colab.research.google.com/github/Mgobeaalcoba/Deepnote_Repository/blob/main/Validad_que_una_matriz_tenga_inversa.ipynb\" target=\"_parent\"><img src=\"https://colab.research.google.com/assets/colab-badge.svg\" alt=\"Open In Colab\"/></a>"
      ]
    },
    {
      "cell_type": "code",
      "metadata": {
        "id": "obEkB07tv99U"
      },
      "source": [
        ""
      ],
      "execution_count": null,
      "outputs": []
    },
    {
      "cell_type": "markdown",
      "metadata": {
        "id": "MBddpTFGwAwS"
      },
      "source": [
        "**Para que un sistema de ecuaciones lineales, necesitamos que la matriz A que representa a este sistema sea cuadrada y que todos sus vectores sean linealmente independientes o sea que no contengan ningun vector ld**"
      ]
    },
    {
      "cell_type": "code",
      "metadata": {
        "id": "wFD-R_cYwZaz"
      },
      "source": [
        "import numpy as np"
      ],
      "execution_count": 1,
      "outputs": []
    },
    {
      "cell_type": "code",
      "metadata": {
        "id": "vpo3vwHTwbVZ"
      },
      "source": [
        "A = np.array(\n",
        "[\n",
        "[0,1,0,0],\n",
        "[0,0,1,0],\n",
        "[0,1,1,0],\n",
        "[1,0,0,1]\n",
        "])\n",
        "\n",
        "# Matriz cuadrada pero no todos sus vectores son linealmente independientes"
      ],
      "execution_count": 3,
      "outputs": []
    },
    {
      "cell_type": "code",
      "metadata": {
        "colab": {
          "base_uri": "https://localhost:8080/"
        },
        "id": "riadnh_Bw7-T",
        "outputId": "4e3243bf-767f-44af-c47e-a5d24f85ce18"
      },
      "source": [
        "print(A)"
      ],
      "execution_count": 4,
      "outputs": [
        {
          "output_type": "stream",
          "name": "stdout",
          "text": [
            "[[0 1 0 0]\n",
            " [0 0 1 0]\n",
            " [0 1 1 0]\n",
            " [1 0 0 1]]\n"
          ]
        }
      ]
    },
    {
      "cell_type": "markdown",
      "metadata": {
        "id": "_We7HYKJxFd2"
      },
      "source": [
        "Cuando quitemos el vector que es linealmente dependiente la matriz dejará de ser cuadrada :("
      ]
    },
    {
      "cell_type": "markdown",
      "metadata": {
        "id": "y-kZ19RPxOje"
      },
      "source": [
        "Una forma de identifcar cual fila es la que es linealmente dependiente es usar los autovectores y autovalores. ¿Que son?\n",
        "Una forma de descomponer nuestra matriz:\n",
        "Ej descomponer 8 en 4x2 o 5+3\n",
        "En este caso vamos a descomponer nuestra matriz en 3 matrices\n"
      ]
    },
    {
      "cell_type": "code",
      "metadata": {
        "colab": {
          "base_uri": "https://localhost:8080/"
        },
        "id": "9DMHlf74xsFY",
        "outputId": "e063b598-7ee5-4526-f73e-5ee1c6f14e13"
      },
      "source": [
        "lambdas , V = np.linalg.eig(A.T)\n",
        "\n",
        "print(A[lambdas == 0, :])"
      ],
      "execution_count": 6,
      "outputs": [
        {
          "output_type": "stream",
          "name": "stdout",
          "text": [
            "[[0 1 1 0]]\n"
          ]
        }
      ]
    },
    {
      "cell_type": "markdown",
      "metadata": {
        "id": "Ilup1afjyHN8"
      },
      "source": [
        "Me señala al vector 3 como el dependiente ya que es la suma del vector 1 y el vector 2"
      ]
    },
    {
      "cell_type": "markdown",
      "metadata": {
        "id": "DxyK0mcvyX56"
      },
      "source": [
        "Por lo cual si intentamos calcular la inversa de esta matriz nos va a dar que es una matriz singular (no tiene inversa).\n",
        "De esta forma obtenemos otra manera de caracterizar a una matriz singular como aquella que posee un vector \"ld\" (linealmente dependiente) dentro de sus filas"
      ]
    },
    {
      "cell_type": "code",
      "metadata": {
        "id": "HOmLiG31xMQL"
      },
      "source": [
        "# np.linalg.inv(A) # Arroja Error LinAlgError: Singular Matrix"
      ],
      "execution_count": 8,
      "outputs": []
    },
    {
      "cell_type": "markdown",
      "metadata": {
        "id": "kc16tG0-y4jA"
      },
      "source": [
        "Tmb se puede hacer la misma comprobación de vectores ld viendo las columnas que a la vista no deben ser iguales. Hubiera sido mucho mas facil en este ejemplo. \n",
        "No tiene que haber ni filas ni columnas que puedan ser escritos como combinación de otras filas o columnas"
      ]
    },
    {
      "cell_type": "code",
      "metadata": {
        "id": "boue71CszH1X"
      },
      "source": [
        ""
      ],
      "execution_count": null,
      "outputs": []
    }
  ]
}