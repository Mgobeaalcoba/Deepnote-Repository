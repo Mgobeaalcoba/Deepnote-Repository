{
  "nbformat": 4,
  "nbformat_minor": 0,
  "metadata": {
    "colab": {
      "name": "Suma de matrices y vectores (broadcasting).ipynb",
      "provenance": [],
      "authorship_tag": "ABX9TyNs0KFY+tMVQegUEE0m77y+",
      "include_colab_link": true
    },
    "kernelspec": {
      "name": "python3",
      "display_name": "Python 3"
    },
    "language_info": {
      "name": "python"
    }
  },
  "cells": [
    {
      "cell_type": "markdown",
      "metadata": {
        "id": "view-in-github",
        "colab_type": "text"
      },
      "source": [
        "<a href=\"https://colab.research.google.com/github/Mgobeaalcoba/Deepnote_Repository/blob/main/Suma_de_matrices_y_vectores_(broadcasting).ipynb\" target=\"_parent\"><img src=\"https://colab.research.google.com/assets/colab-badge.svg\" alt=\"Open In Colab\"/></a>"
      ]
    },
    {
      "cell_type": "code",
      "metadata": {
        "id": "e0ZNXIgiP_bd"
      },
      "source": [
        "import numpy as np"
      ],
      "execution_count": 1,
      "outputs": []
    },
    {
      "cell_type": "code",
      "metadata": {
        "id": "nlFg5FBpQVUx"
      },
      "source": [
        "escalar = 5.679\n",
        "vector = np.array([3,4,5])\n",
        "matriz = np.array([[1,2],[3,4],[5,6]])"
      ],
      "execution_count": 3,
      "outputs": []
    },
    {
      "cell_type": "code",
      "metadata": {
        "colab": {
          "base_uri": "https://localhost:8080/"
        },
        "id": "LjDWflynQava",
        "outputId": "e0e8c1b0-4f0b-41fc-ea33-248bd67dc491"
      },
      "source": [
        "# A = vector + matriz # no es posible porque el vector tiene 3 columnas y la matriz 2. Para hacerlo debo trasponer o la matriz o el vector\n",
        "A = vector + matriz.T # Esto es broadcasting. Extender una matriz o un vector para poder hacer operaciones matematicas\n",
        "print(A)\n",
        "B = matriz + 42 # Acá Python hace broadcasting tmb\n",
        "print(\"\\n\")\n",
        "print(B)\n"
      ],
      "execution_count": 7,
      "outputs": [
        {
          "output_type": "stream",
          "name": "stdout",
          "text": [
            "[[ 4  7 10]\n",
            " [ 5  8 11]]\n",
            "\n",
            "\n",
            "[[43 44]\n",
            " [45 46]\n",
            " [47 48]]\n"
          ]
        }
      ]
    },
    {
      "cell_type": "code",
      "metadata": {
        "colab": {
          "base_uri": "https://localhost:8080/"
        },
        "id": "bcOQ65PSRTQT",
        "outputId": "4706c432-b821-4108-834a-9170b85ec30c"
      },
      "source": [
        "C = matriz + np.array([[42],[42],[42]]) # Acá Python hace broadcasting tmb\n",
        "print(C)"
      ],
      "execution_count": 9,
      "outputs": [
        {
          "output_type": "stream",
          "name": "stdout",
          "text": [
            "[[43 44]\n",
            " [45 46]\n",
            " [47 48]]\n"
          ]
        }
      ]
    },
    {
      "cell_type": "markdown",
      "metadata": {
        "id": "YYPNvl3-R8rO"
      },
      "source": [
        "Broadcasting es entonces extender el elemento de menor dimensión hasta completar o igual el elemento de mayor dimensión. "
      ]
    }
  ]
}