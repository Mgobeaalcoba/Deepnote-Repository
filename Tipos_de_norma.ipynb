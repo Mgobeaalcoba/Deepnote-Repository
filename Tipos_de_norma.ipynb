{
  "nbformat": 4,
  "nbformat_minor": 0,
  "metadata": {
    "colab": {
      "name": "Tipos de norma.ipynb",
      "provenance": [],
      "authorship_tag": "ABX9TyPWj8k7UizXaf4AofjgsbfH",
      "include_colab_link": true
    },
    "kernelspec": {
      "name": "python3",
      "display_name": "Python 3"
    },
    "language_info": {
      "name": "python"
    }
  },
  "cells": [
    {
      "cell_type": "markdown",
      "metadata": {
        "id": "view-in-github",
        "colab_type": "text"
      },
      "source": [
        "<a href=\"https://colab.research.google.com/github/Mgobeaalcoba/Deepnote_Repository/blob/main/Tipos_de_norma.ipynb\" target=\"_parent\"><img src=\"https://colab.research.google.com/assets/colab-badge.svg\" alt=\"Open In Colab\"/></a>"
      ]
    },
    {
      "cell_type": "markdown",
      "metadata": {
        "id": "2l0sWdhbDGaw"
      },
      "source": [
        "Hay muchos tipos de normas que se utilizan en machine learning para medir diversos tipos de cosas entre ellos los errores. \n",
        "Ej de tipos de normas:\n",
        "L0: Cantidad de elementos de nuestro vector distintos de cero (0)\n",
        "L1: suma de los valores absolutos de los componentes de nuestro vector\n",
        "L2: distancia ecludiana, la comun, la que siempre conocemos. Por ej para saber cuanto mide un vector al origen\n",
        "(L2)^2: Lo mismo al cuadrado. Tiene muchas ventajas computacionales\n",
        "L\"infinito\": Nos devuelve el mayor valor dentro de los valores absolutos dentro de nuestro vector."
      ]
    },
    {
      "cell_type": "code",
      "metadata": {
        "id": "lsHNtVJwD3q7"
      },
      "source": [
        "import numpy as np"
      ],
      "execution_count": 1,
      "outputs": []
    },
    {
      "cell_type": "code",
      "metadata": {
        "colab": {
          "base_uri": "https://localhost:8080/"
        },
        "id": "dXWz0kItD6Vt",
        "outputId": "199a3dff-483f-4a06-8e56-defbeb901ca3"
      },
      "source": [
        "vector = np.array([1,2,0,5,6,0])\n",
        "print(np.linalg.norm(vector, ord=0)) #Calculo la norma 0. Debe dar 4 porque hay\n",
        "# 4 elementos distintos de cero. Veamos"
      ],
      "execution_count": 2,
      "outputs": [
        {
          "output_type": "stream",
          "name": "stdout",
          "text": [
            "4.0\n"
          ]
        }
      ]
    },
    {
      "cell_type": "code",
      "metadata": {
        "colab": {
          "base_uri": "https://localhost:8080/"
        },
        "id": "iI3-qnyxEPvb",
        "outputId": "4644f7fc-d7b3-44c0-8173-f936857041d3"
      },
      "source": [
        "vector = np.array([1,-1,1,-1,1])\n",
        "print(np.linalg.norm(vector, ord=1)) #Calculo la norma 1. Debe dar 5 porque suma\n",
        "# los valores absolutos -sin signos- de cada elemento en mi vector"
      ],
      "execution_count": 3,
      "outputs": [
        {
          "output_type": "stream",
          "name": "stdout",
          "text": [
            "5.0\n"
          ]
        }
      ]
    },
    {
      "cell_type": "code",
      "metadata": {
        "colab": {
          "base_uri": "https://localhost:8080/"
        },
        "id": "W_GKMRrvEnQr",
        "outputId": "b2d86315-af6f-4274-b11d-e909f429b667"
      },
      "source": [
        "vector = np.array([1,1])\n",
        "print(np.linalg.norm(vector, ord=2)) # Nos debe arrojar la distancia o diagonal\n",
        "# del cuadrado unitario, ya que mi vector es 1,1. Esta se calcula como la raiz cuadrada\n",
        "# de la suma los valores de X e Y en mi vector. En este caso la raiz cuadrada de\n",
        "# 1+1. Que me da algo así como 1.41 ----> No es tan así\n",
        "print(np.linalg.norm(vector)) # La funcion norm de numpy nos da por defecto la\n",
        "# norma 2"
      ],
      "execution_count": 14,
      "outputs": [
        {
          "output_type": "stream",
          "name": "stdout",
          "text": [
            "1.4142135623730951\n",
            "1.4142135623730951\n"
          ]
        }
      ]
    },
    {
      "cell_type": "code",
      "metadata": {
        "colab": {
          "base_uri": "https://localhost:8080/"
        },
        "id": "BffwYIdeGAZ_",
        "outputId": "983f8154-e4c0-48f5-eff2-d55cd8053a4d"
      },
      "source": [
        "vector = np.array([1,2,3,4,5,6])\n",
        "print(vector)"
      ],
      "execution_count": 15,
      "outputs": [
        {
          "output_type": "stream",
          "name": "stdout",
          "text": [
            "[1 2 3 4 5 6]\n"
          ]
        }
      ]
    },
    {
      "cell_type": "code",
      "metadata": {
        "colab": {
          "base_uri": "https://localhost:8080/"
        },
        "id": "mlVzizHlGHTk",
        "outputId": "257e9d4b-e676-4fe6-c64e-cf1597f684ee"
      },
      "source": [
        "print(np.linalg.norm(vector, ord=2)**2) # Al cuadrado"
      ],
      "execution_count": 16,
      "outputs": [
        {
          "output_type": "stream",
          "name": "stdout",
          "text": [
            "91.0\n"
          ]
        }
      ]
    },
    {
      "cell_type": "code",
      "metadata": {
        "colab": {
          "base_uri": "https://localhost:8080/"
        },
        "id": "XD1NUzyxGVkH",
        "outputId": "51bb8300-4535-4d28-ab5d-c1f3156e9f05"
      },
      "source": [
        "print(vector.T.dot(vector)) "
      ],
      "execution_count": 17,
      "outputs": [
        {
          "output_type": "stream",
          "name": "stdout",
          "text": [
            "91\n"
          ]
        }
      ]
    },
    {
      "cell_type": "code",
      "metadata": {
        "colab": {
          "base_uri": "https://localhost:8080/"
        },
        "id": "weP5oITYGiPR",
        "outputId": "e21b2c6e-c70c-49dc-b3f8-676d07fab6e3"
      },
      "source": [
        "vector = np.array([1,2,3,-100]) \n",
        "print(np.linalg.norm(vector, ord=np.inf)) # Norma infinito usando el infinito de\n",
        "# numpy. Nos va a arrojar el valor absoluto mas grande. "
      ],
      "execution_count": 18,
      "outputs": [
        {
          "output_type": "stream",
          "name": "stdout",
          "text": [
            "100.0\n"
          ]
        }
      ]
    }
  ]
}