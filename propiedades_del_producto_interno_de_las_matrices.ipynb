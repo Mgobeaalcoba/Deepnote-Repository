{
  "nbformat": 4,
  "nbformat_minor": 0,
  "metadata": {
    "colab": {
      "name": "propiedades del producto interno de las matrices.ipynb",
      "provenance": [],
      "authorship_tag": "ABX9TyNlPnBhXcQPVpOJz9TLoT/i",
      "include_colab_link": true
    },
    "kernelspec": {
      "name": "python3",
      "display_name": "Python 3"
    },
    "language_info": {
      "name": "python"
    }
  },
  "cells": [
    {
      "cell_type": "markdown",
      "metadata": {
        "id": "view-in-github",
        "colab_type": "text"
      },
      "source": [
        "<a href=\"https://colab.research.google.com/github/Mgobeaalcoba/Deepnote_Repository/blob/main/propiedades_del_producto_interno_de_las_matrices.ipynb\" target=\"_parent\"><img src=\"https://colab.research.google.com/assets/colab-badge.svg\" alt=\"Open In Colab\"/></a>"
      ]
    },
    {
      "cell_type": "markdown",
      "metadata": {
        "id": "B1KPEBFPzN7U"
      },
      "source": [
        "**El producto interno de matrices es asociativo y distributivo, no es conmutativo.**"
      ]
    },
    {
      "cell_type": "markdown",
      "metadata": {
        "id": "r_pVL127zdBx"
      },
      "source": [
        "**Propiedad asociativa**\n",
        "\n",
        "---\n",
        "\n",
        "\n",
        "$$ a * ( b * c ) = ( a * b ) * c $$\n",
        "\n"
      ]
    },
    {
      "cell_type": "markdown",
      "metadata": {
        "id": "-7cuUkJn0KtX"
      },
      "source": [
        "**Propiedad distributiva**\n",
        "\n",
        "---\n",
        "\n",
        "\n",
        "$$ a * ( b + c ) = ( a * b ) + ( a * c ) $$"
      ]
    },
    {
      "cell_type": "markdown",
      "metadata": {
        "id": "iePUocba0ind"
      },
      "source": [
        "**Propiedad commutativa**\n",
        "\n",
        "---\n",
        "\n",
        "\n",
        "$$ b * c = c * b $$"
      ]
    },
    {
      "cell_type": "code",
      "metadata": {
        "id": "5-LszyvYzW0V"
      },
      "source": [
        "import numpy as np"
      ],
      "execution_count": 1,
      "outputs": []
    },
    {
      "cell_type": "code",
      "metadata": {
        "id": "Q8th6Bdo1VXc"
      },
      "source": [
        "A = np.array([[2,3],[5,7],[11,13]])\n",
        "B = np.array([[1,3],[2,1]])\n",
        "C = np.array([[3,2],[4,2]])"
      ],
      "execution_count": 4,
      "outputs": []
    },
    {
      "cell_type": "code",
      "metadata": {
        "colab": {
          "base_uri": "https://localhost:8080/"
        },
        "id": "2o6SqDhU1an1",
        "outputId": "dcf73101-682f-4432-aaad-64c65056fbea"
      },
      "source": [
        "# Asociativa\n",
        "ABC = A.dot(B.dot(C))\n",
        "print(ABC)"
      ],
      "execution_count": 5,
      "outputs": [
        {
          "output_type": "stream",
          "name": "stdout",
          "text": [
            "[[ 60  34]\n",
            " [145  82]\n",
            " [295 166]]\n"
          ]
        }
      ]
    },
    {
      "cell_type": "code",
      "metadata": {
        "colab": {
          "base_uri": "https://localhost:8080/"
        },
        "id": "i1bCZVc-2HOE",
        "outputId": "077dae58-ea98-4b02-b529-4b85d8dbde9d"
      },
      "source": [
        "AB_C = A.dot(B.dot(C))\n",
        "print(AB_C)"
      ],
      "execution_count": 6,
      "outputs": [
        {
          "output_type": "stream",
          "name": "stdout",
          "text": [
            "[[ 60  34]\n",
            " [145  82]\n",
            " [295 166]]\n"
          ]
        }
      ]
    },
    {
      "cell_type": "markdown",
      "metadata": {
        "id": "l4Bnljki2Xqq"
      },
      "source": [
        "# 1° Conclusión: El producto interno entre matrices es asociativo"
      ]
    },
    {
      "cell_type": "code",
      "metadata": {
        "colab": {
          "base_uri": "https://localhost:8080/"
        },
        "id": "NvMQRxwq2e2i",
        "outputId": "cfd8b548-3ee2-413f-85b6-62703eac6031"
      },
      "source": [
        "# Distributiva\n",
        "D = A.dot(B+C)\n",
        "print(D)"
      ],
      "execution_count": 7,
      "outputs": [
        {
          "output_type": "stream",
          "name": "stdout",
          "text": [
            "[[ 26  19]\n",
            " [ 62  46]\n",
            " [122  94]]\n"
          ]
        }
      ]
    },
    {
      "cell_type": "code",
      "metadata": {
        "colab": {
          "base_uri": "https://localhost:8080/"
        },
        "id": "8gD-DW4v2xdt",
        "outputId": "4d64f926-0725-4f7f-b8b7-a00203e48f50"
      },
      "source": [
        "E = A.dot(B) + A.dot(C)\n",
        "print(E)"
      ],
      "execution_count": 8,
      "outputs": [
        {
          "output_type": "stream",
          "name": "stdout",
          "text": [
            "[[ 26  19]\n",
            " [ 62  46]\n",
            " [122  94]]\n"
          ]
        }
      ]
    },
    {
      "cell_type": "code",
      "metadata": {
        "colab": {
          "base_uri": "https://localhost:8080/"
        },
        "id": "dH430Ne33VLW",
        "outputId": "da459342-ad8c-45fb-e572-2bed2a8c50c7"
      },
      "source": [
        "print(D==E)"
      ],
      "execution_count": 11,
      "outputs": [
        {
          "output_type": "stream",
          "name": "stdout",
          "text": [
            "[[ True  True]\n",
            " [ True  True]\n",
            " [ True  True]]\n"
          ]
        }
      ]
    },
    {
      "cell_type": "markdown",
      "metadata": {
        "id": "j-elWdQv27Rk"
      },
      "source": [
        "# 2° Conclusión: El producto interno entre matrices es distributivo"
      ]
    },
    {
      "cell_type": "code",
      "metadata": {
        "colab": {
          "base_uri": "https://localhost:8080/"
        },
        "id": "g1Msks4_3Cxo",
        "outputId": "676fa100-e575-4f4b-f2b6-1cb4ca688ca2"
      },
      "source": [
        "# Conmutativa\n",
        "F =  B.dot(C)\n",
        "print(F)"
      ],
      "execution_count": 9,
      "outputs": [
        {
          "output_type": "stream",
          "name": "stdout",
          "text": [
            "[[15  8]\n",
            " [10  6]]\n"
          ]
        }
      ]
    },
    {
      "cell_type": "code",
      "metadata": {
        "colab": {
          "base_uri": "https://localhost:8080/"
        },
        "id": "pmVmn2va3N_a",
        "outputId": "4bbd9e22-175a-4a6c-ec5a-f259a8237177"
      },
      "source": [
        "G = C.dot(B)\n",
        "print(G)"
      ],
      "execution_count": 12,
      "outputs": [
        {
          "output_type": "stream",
          "name": "stdout",
          "text": [
            "[[ 7 11]\n",
            " [ 8 14]]\n"
          ]
        }
      ]
    },
    {
      "cell_type": "code",
      "metadata": {
        "colab": {
          "base_uri": "https://localhost:8080/"
        },
        "id": "-GQw-z0a3gKm",
        "outputId": "c9d042f0-e624-4da0-8567-7b91543b084c"
      },
      "source": [
        "print(F==G)"
      ],
      "execution_count": 13,
      "outputs": [
        {
          "output_type": "stream",
          "name": "stdout",
          "text": [
            "[[False False]\n",
            " [False False]]\n"
          ]
        }
      ]
    },
    {
      "cell_type": "markdown",
      "metadata": {
        "id": "v3mRyOy93l2s"
      },
      "source": [
        "# 3° Conclusión: El producto interno entre matrices no es conmutativo.\n",
        "**Pero la multiplicación de vectores si es conmutativa**"
      ]
    },
    {
      "cell_type": "code",
      "metadata": {
        "colab": {
          "base_uri": "https://localhost:8080/"
        },
        "id": "gqz1_8MT3w3W",
        "outputId": "be4d0b92-b37e-46c5-b81c-3caf64221f03"
      },
      "source": [
        "v1 = np.array([[2],[7]]) # Vector en columnas: 1 cplumna\n",
        "v2 = np.array([[3],[5]]) # Vector en columnas: 1 columna\n",
        "v3 = np.array([1,2]) # Vector en filas: 1 fila\n",
        "print(v1)\n",
        "print(v2)\n",
        "print(v3)"
      ],
      "execution_count": 14,
      "outputs": [
        {
          "output_type": "stream",
          "name": "stdout",
          "text": [
            "[[2]\n",
            " [7]]\n",
            "[[3]\n",
            " [5]]\n",
            "[1 2]\n"
          ]
        }
      ]
    },
    {
      "cell_type": "code",
      "metadata": {
        "colab": {
          "base_uri": "https://localhost:8080/"
        },
        "id": "so2vommh4pq_",
        "outputId": "54ae79df-8f0f-4549-c217-98d35eed4769"
      },
      "source": [
        "# transpuestos de los vectores\n",
        "v1_t = v1.T\n",
        "v2_t = v2.T\n",
        "v3_t = v3.T\n",
        "print(v1_t)\n",
        "print(v2_t)\n",
        "print(v3_t) # Lo voy a ver igual pero si hago operaciones matematicas notaré la diferencia."
      ],
      "execution_count": 16,
      "outputs": [
        {
          "output_type": "stream",
          "name": "stdout",
          "text": [
            "[[2 7]]\n",
            "[[3 5]]\n",
            "[1 2]\n"
          ]
        }
      ]
    },
    {
      "cell_type": "code",
      "metadata": {
        "colab": {
          "base_uri": "https://localhost:8080/"
        },
        "id": "FY73zWjs5EDu",
        "outputId": "c7f192f3-a528-4ea0-b790-f4cb4424e925"
      },
      "source": [
        "v1_tv2 = v1_t.dot(v2) # para multiplicar vectores los mismos tienen que estar cruzados. Por eso traspongo\n",
        "# para tener un vector en fila y uno en columna\n",
        "v2_tv1 = v2_t.dot(v1)\n",
        "print(v1_tv2)\n",
        "print(v2_tv1)\n",
        "# como se observa el producto interno entre vectores si es conmutativo"
      ],
      "execution_count": 18,
      "outputs": [
        {
          "output_type": "stream",
          "name": "stdout",
          "text": [
            "[[41]]\n",
            "[[41]]\n"
          ]
        }
      ]
    },
    {
      "cell_type": "code",
      "metadata": {
        "colab": {
          "base_uri": "https://localhost:8080/"
        },
        "id": "3VRg44BX6B05",
        "outputId": "431f0ff9-ec79-4f0e-ceea-bb91a084ffbb"
      },
      "source": [
        "# Matrices que pueda multiplicar en un sentido pero no si las transpongo\n",
        "print(A) # 3 filas y 2 columnas\n",
        "print(B) # 2 filas y 2 columnas"
      ],
      "execution_count": 19,
      "outputs": [
        {
          "output_type": "stream",
          "name": "stdout",
          "text": [
            "[[ 2  3]\n",
            " [ 5  7]\n",
            " [11 13]]\n",
            "[[1 3]\n",
            " [2 1]]\n"
          ]
        }
      ]
    },
    {
      "cell_type": "code",
      "metadata": {
        "colab": {
          "base_uri": "https://localhost:8080/"
        },
        "id": "1pCFF8cx6W1F",
        "outputId": "7aaaa738-8094-4886-f726-279c275a2785"
      },
      "source": [
        "AB = A.dot(B)\n",
        "print(AB) # Se puede porque coinciden las filas de la primera matriz con las columnas de la segunda"
      ],
      "execution_count": 20,
      "outputs": [
        {
          "output_type": "stream",
          "name": "stdout",
          "text": [
            "[[ 8  9]\n",
            " [19 22]\n",
            " [37 46]]\n"
          ]
        }
      ]
    },
    {
      "cell_type": "code",
      "metadata": {
        "colab": {
          "base_uri": "https://localhost:8080/"
        },
        "id": "9YHQSYlZ6iHl",
        "outputId": "da4851ef-3770-4112-bf6a-a8983114879a"
      },
      "source": [
        "A_t = A.T # 2 filas y 3 columnas\n",
        "B_t = B.T # 2 filas y 2 columnas\n",
        "print(A_t)\n",
        "print(B_t)"
      ],
      "execution_count": 23,
      "outputs": [
        {
          "output_type": "stream",
          "name": "stdout",
          "text": [
            "[[ 2  5 11]\n",
            " [ 3  7 13]]\n",
            "[[1 2]\n",
            " [3 1]]\n"
          ]
        }
      ]
    },
    {
      "cell_type": "code",
      "metadata": {
        "id": "u2YCB-f86-m3"
      },
      "source": [
        "# A_tB_t = A_t.dot(B_t)\n",
        "# print(A_tB_t)"
      ],
      "execution_count": 25,
      "outputs": []
    }
  ]
}