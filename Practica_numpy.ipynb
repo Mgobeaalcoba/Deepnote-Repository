{
  "nbformat": 4,
  "nbformat_minor": 0,
  "metadata": {
    "colab": {
      "name": "Practica_numpy.ipynb",
      "provenance": [],
      "authorship_tag": "ABX9TyOG0zdGAVeTdlH8f5KM4Jls",
      "include_colab_link": true
    },
    "kernelspec": {
      "name": "python3",
      "display_name": "Python 3"
    },
    "language_info": {
      "name": "python"
    }
  },
  "cells": [
    {
      "cell_type": "markdown",
      "metadata": {
        "id": "view-in-github",
        "colab_type": "text"
      },
      "source": [
        "<a href=\"https://colab.research.google.com/github/Mgobeaalcoba/Deepnote_Repository/blob/main/Practica_numpy.ipynb\" target=\"_parent\"><img src=\"https://colab.research.google.com/assets/colab-badge.svg\" alt=\"Open In Colab\"/></a>"
      ]
    },
    {
      "cell_type": "code",
      "metadata": {
        "colab": {
          "base_uri": "https://localhost:8080/",
          "height": 433
        },
        "id": "7FO_iVvOzLJM",
        "outputId": "e59563dc-3908-4224-8832-c0c28d7f37dc"
      },
      "source": [
        "# Generando un arreglo con distribución normal o gausiana con numpy y luego graficandolo mediante matplotlib\n",
        "\n",
        "import numpy as np\n",
        "import matplotlib.pyplot as plt\n",
        "\n",
        "\n",
        "def run():\n",
        "    vector = np.random.rand(10) #Selecciona de forma aleatoria la cantidad de datos indicada como argumento entre 0 y 1\n",
        "    print(vector)\n",
        "    vector2 = np.random.uniform(0,100,10) #Selecciona de forma aleatoria la cantidad de datos indicada en el ultimo argumento\n",
        "    # entre el rango comprendido entre el primer argumento y el segundo.\n",
        "    print(vector2)\n",
        "    vector3 = np.random.randn(200000)\n",
        "    print(vector3)\n",
        "    print(plt.hist(vector3))\n",
        "\n",
        "if __name__ == \"__main__\":\n",
        "    run()"
      ],
      "execution_count": 5,
      "outputs": [
        {
          "output_type": "stream",
          "name": "stdout",
          "text": [
            "[0.13295862 0.93635466 0.70126778 0.55006169 0.78407427 0.02283955\n",
            " 0.73280747 0.00709352 0.76856672 0.12845997]\n",
            "[45.04166492 58.21138882 89.11995667 36.0174169  56.12269513  8.06514818\n",
            " 30.64539554 93.61424495 72.66452649 58.83680854]\n",
            "[-0.71635814  0.62595327 -1.86828535 ... -1.03315366  2.23969051\n",
            " -0.5391359 ]\n",
            "(array([3.9000e+01, 6.8200e+02, 6.6030e+03, 2.9788e+04, 6.3151e+04,\n",
            "       6.3062e+04, 2.9427e+04, 6.5730e+03, 6.5000e+02, 2.5000e+01]), array([-4.48803733e+00, -3.58984799e+00, -2.69165866e+00, -1.79346932e+00,\n",
            "       -8.95279987e-01,  2.90934893e-03,  9.01098685e-01,  1.79928802e+00,\n",
            "        2.69747736e+00,  3.59566669e+00,  4.49385603e+00]), <a list of 10 Patch objects>)\n"
          ]
        },
        {
          "output_type": "display_data",
          "data": {
            "image/png": "[encoded data removed]",
            "text/plain": [
              "<Figure size 432x288 with 1 Axes>"
            ]
          },
          "metadata": {
            "needs_background": "light"
          }
        }
      ]
    }
  ]
}