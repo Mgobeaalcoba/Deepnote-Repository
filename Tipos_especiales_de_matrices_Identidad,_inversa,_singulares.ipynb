{
  "nbformat": 4,
  "nbformat_minor": 0,
  "metadata": {
    "colab": {
      "name": "Tipos especiales de matrices: Identidad, inversa, singulares.ipynb",
      "provenance": [],
      "authorship_tag": "ABX9TyOUHpSMd+tC7OZrybCFJGZU",
      "include_colab_link": true
    },
    "kernelspec": {
      "name": "python3",
      "display_name": "Python 3"
    },
    "language_info": {
      "name": "python"
    }
  },
  "cells": [
    {
      "cell_type": "markdown",
      "metadata": {
        "id": "view-in-github",
        "colab_type": "text"
      },
      "source": [
        "<a href=\"https://colab.research.google.com/github/Mgobeaalcoba/Deepnote_Repository/blob/main/Tipos_especiales_de_matrices_Identidad%2C_inversa%2C_singulares.ipynb\" target=\"_parent\"><img src=\"https://colab.research.google.com/assets/colab-badge.svg\" alt=\"Open In Colab\"/></a>"
      ]
    },
    {
      "cell_type": "code",
      "metadata": {
        "id": "zRTVit9co1Qp"
      },
      "source": [
        "import numpy as np"
      ],
      "execution_count": 1,
      "outputs": []
    },
    {
      "cell_type": "code",
      "metadata": {
        "id": "MS9I6-s_pCCA"
      },
      "source": [
        "identidad = np.eye(4) # nos devuelve una matriz con todos 1 en la diagonal\n",
        "# principal y todos 0 fuera de ella. Todos definidos como floats"
      ],
      "execution_count": 2,
      "outputs": []
    },
    {
      "cell_type": "code",
      "metadata": {
        "colab": {
          "base_uri": "https://localhost:8080/"
        },
        "id": "OkRAH3pYpOMb",
        "outputId": "6112f574-5bfb-4836-865f-e5dbd7d22d5f"
      },
      "source": [
        "print(identidad)"
      ],
      "execution_count": 3,
      "outputs": [
        {
          "output_type": "stream",
          "name": "stdout",
          "text": [
            "[[1. 0. 0. 0.]\n",
            " [0. 1. 0. 0.]\n",
            " [0. 0. 1. 0.]\n",
            " [0. 0. 0. 1.]]\n"
          ]
        }
      ]
    },
    {
      "cell_type": "code",
      "metadata": {
        "colab": {
          "base_uri": "https://localhost:8080/"
        },
        "id": "Fzc2q26WpVGP",
        "outputId": "9df080ab-82f2-4dc2-f142-13bdf12d9a66"
      },
      "source": [
        "vector = np.array([[2],[3],[5],[7]])\n",
        "print(vector)"
      ],
      "execution_count": 5,
      "outputs": [
        {
          "output_type": "stream",
          "name": "stdout",
          "text": [
            "[[2]\n",
            " [3]\n",
            " [5]\n",
            " [7]]\n"
          ]
        }
      ]
    },
    {
      "cell_type": "code",
      "metadata": {
        "colab": {
          "base_uri": "https://localhost:8080/"
        },
        "id": "5OVXHoOpphRw",
        "outputId": "6bd0609d-3bd1-47f4-830f-52f9eb84b75e"
      },
      "source": [
        "print(identidad.dot(vector)) # Nos devuelve exactamente el mismo vector que teniamos antes"
      ],
      "execution_count": 6,
      "outputs": [
        {
          "output_type": "stream",
          "name": "stdout",
          "text": [
            "[[2.]\n",
            " [3.]\n",
            " [5.]\n",
            " [7.]]\n"
          ]
        }
      ]
    },
    {
      "cell_type": "code",
      "metadata": {
        "id": "AbBaF6Y7pprn"
      },
      "source": [
        "# print(vector.dot(identidad)) # no puedo hacer el producto de esta forma porque el\n",
        "# vector tiene 4 filas y 1 columna mientras que identidad tiene 4 filas y 4 columnas.\n",
        "# Recordemos que para hacer producto de matrices debe coincider la cantidad de columnas\n",
        "# de la primera matriz con la cantidad de filas de la segunda. \n"
      ],
      "execution_count": 8,
      "outputs": []
    },
    {
      "cell_type": "markdown",
      "metadata": {
        "id": "yPaiUFuNqWRZ"
      },
      "source": [
        "Entonces la matriz identidad es un elemento neutro. Es como el 1 para los numeros. No cambia nada cuando lo uso para multriplicar. La identidad no transforma ese espacio y eso es super importante"
      ]
    },
    {
      "cell_type": "markdown",
      "metadata": {
        "id": "bpgMvP4Xq194"
      },
      "source": [
        "Veamos ahora la inversa de la matriz. \n",
        "Por ej la inversa de 5*3 es 15%3"
      ]
    },
    {
      "cell_type": "code",
      "metadata": {
        "id": "rir22aYFrAUp"
      },
      "source": [
        "A = np.array([[1,0,1],[0,1,1],[-1,1,1]])"
      ],
      "execution_count": 9,
      "outputs": []
    },
    {
      "cell_type": "code",
      "metadata": {
        "colab": {
          "base_uri": "https://localhost:8080/"
        },
        "id": "f2w_FHKpqTwP",
        "outputId": "40faeb68-74da-4a50-9086-7d7e7c70cd22"
      },
      "source": [
        "print(A)"
      ],
      "execution_count": 10,
      "outputs": [
        {
          "output_type": "stream",
          "name": "stdout",
          "text": [
            "[[ 1  0  1]\n",
            " [ 0  1  1]\n",
            " [-1  1  1]]\n"
          ]
        }
      ]
    },
    {
      "cell_type": "markdown",
      "metadata": {
        "id": "A3eOHVA0rQNf"
      },
      "source": [
        "Calculemos su inversa"
      ]
    },
    {
      "cell_type": "code",
      "metadata": {
        "id": "TPIC7nwarRjf"
      },
      "source": [
        "inversa_A = np.linalg.inv(A)"
      ],
      "execution_count": 11,
      "outputs": []
    },
    {
      "cell_type": "code",
      "metadata": {
        "colab": {
          "base_uri": "https://localhost:8080/"
        },
        "id": "odMIkm0orXnh",
        "outputId": "fabefd20-5ff4-4cfa-b2b6-d29c63bf215e"
      },
      "source": [
        "print(inversa_A)"
      ],
      "execution_count": 12,
      "outputs": [
        {
          "output_type": "stream",
          "name": "stdout",
          "text": [
            "[[ 0.  1. -1.]\n",
            " [-1.  2. -1.]\n",
            " [ 1. -1.  1.]]\n"
          ]
        }
      ]
    },
    {
      "cell_type": "code",
      "metadata": {
        "colab": {
          "base_uri": "https://localhost:8080/"
        },
        "id": "n_-LB-Tbrhqe",
        "outputId": "dfb08aa4-f83e-48b5-d716-c580fc29dd1e"
      },
      "source": [
        "print(A.dot(inversa_A)) # Nos va a devolver la identidad"
      ],
      "execution_count": 13,
      "outputs": [
        {
          "output_type": "stream",
          "name": "stdout",
          "text": [
            "[[1. 0. 0.]\n",
            " [0. 1. 0.]\n",
            " [0. 0. 1.]]\n"
          ]
        }
      ]
    },
    {
      "cell_type": "markdown",
      "metadata": {
        "id": "HgElrVLirrXx"
      },
      "source": [
        "Cuando no existe esta identidad la vamos a llamar una matriz singular. Cuando no existe la inversa la llamamos una matriz singular"
      ]
    },
    {
      "cell_type": "code",
      "metadata": {
        "id": "9lUXMv_wrxYn"
      },
      "source": [
        "singular = np.array([[1,1],[1,1]])"
      ],
      "execution_count": 14,
      "outputs": []
    },
    {
      "cell_type": "code",
      "metadata": {
        "colab": {
          "base_uri": "https://localhost:8080/"
        },
        "id": "AD0adpMAr4W4",
        "outputId": "6f50d659-77b7-42f0-c7f2-f3c4a193d6b7"
      },
      "source": [
        "print(singular)"
      ],
      "execution_count": 15,
      "outputs": [
        {
          "output_type": "stream",
          "name": "stdout",
          "text": [
            "[[1 1]\n",
            " [1 1]]\n"
          ]
        }
      ]
    },
    {
      "cell_type": "code",
      "metadata": {
        "id": "Q-AsqefRr6an"
      },
      "source": [
        "# print(np.linalg.inv(singular)) # LinAlgError: Singular matrix No existe la inversa de\n",
        "# una matriz singular"
      ],
      "execution_count": 17,
      "outputs": []
    },
    {
      "cell_type": "markdown",
      "metadata": {
        "id": "hdVVDP8hsVWX"
      },
      "source": [
        "**No podemos calcular la inversa de una matriz que no sea cuadrada. **"
      ]
    },
    {
      "cell_type": "markdown",
      "metadata": {
        "id": "my69gwN-scV_"
      },
      "source": [
        "# Tener la inversa nos sirve para hallar x en un sistema de ecuaciones lineales. Veamos como..."
      ]
    }
  ]
}