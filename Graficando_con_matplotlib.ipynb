{
  "nbformat": 4,
  "nbformat_minor": 0,
  "metadata": {
    "colab": {
      "name": "Graficando con matplotlib.ipynb",
      "provenance": [],
      "authorship_tag": "ABX9TyNKrqoyzdsKAfZ7aQ2mUXck",
      "include_colab_link": true
    },
    "kernelspec": {
      "name": "python3",
      "display_name": "Python 3"
    },
    "language_info": {
      "name": "python"
    }
  },
  "cells": [
    {
      "cell_type": "markdown",
      "metadata": {
        "id": "view-in-github",
        "colab_type": "text"
      },
      "source": [
        "<a href=\"https://colab.research.google.com/github/Mgobeaalcoba/Deepnote_Repository/blob/main/Graficando_con_matplotlib.ipynb\" target=\"_parent\"><img src=\"https://colab.research.google.com/assets/colab-badge.svg\" alt=\"Open In Colab\"/></a>"
      ]
    },
    {
      "cell_type": "code",
      "metadata": {
        "id": "0XnThwxVdEh5"
      },
      "source": [
        "import numpy as np\n",
        "import matplotlib.pyplot as plt"
      ],
      "execution_count": null,
      "outputs": []
    },
    {
      "cell_type": "code",
      "metadata": {
        "colab": {
          "base_uri": "https://localhost:8080/"
        },
        "id": "zOCoDRQKdfMO",
        "outputId": "6c6d62f3-9480-4bc4-f440-9f059d6bc92a"
      },
      "source": [
        "def f(x):\n",
        "  result = x**2\n",
        "  return result\n",
        "\n",
        "# x = np.linspace(-10,10,num=20)\n",
        "x = [-10,-9,-8,-7,-6,-5,-4,-3,-2,-1,0,1,2,3,4,5,6,7,8,9,10]\n",
        "z = np.array([-10,-9,-8,-7,-6,-5,-4,-3,-2,-1,0,1,2,3,4,5,6,7,8,9,10])\n",
        "\n",
        "print(x)\n",
        "print(z)\n",
        "\n",
        "y = f(z)\n",
        "\n",
        "print(y)\n",
        "\n",
        "# fig , ax = plt.subplots()\n",
        "# ax.plot(x , y)\n",
        "# ax.grid()\n"
      ],
      "execution_count": null,
      "outputs": [
        {
          "output_type": "stream",
          "name": "stdout",
          "text": [
            "[-10, -9, -8, -7, -6, -5, -4, -3, -2, -1, 0, 1, 2, 3, 4, 5, 6, 7, 8, 9, 10]\n",
            "[-10  -9  -8  -7  -6  -5  -4  -3  -2  -1   0   1   2   3   4   5   6   7\n",
            "   8   9  10]\n",
            "[100  81  64  49  36  25  16   9   4   1   0   1   4   9  16  25  36  49\n",
            "  64  81 100]\n"
          ]
        }
      ]
    }
  ]
}