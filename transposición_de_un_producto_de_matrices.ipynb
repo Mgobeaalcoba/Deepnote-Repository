{
  "nbformat": 4,
  "nbformat_minor": 0,
  "metadata": {
    "colab": {
      "name": "transposición de un producto de matrices.ipynb",
      "provenance": [],
      "authorship_tag": "ABX9TyNUfgCYB6Ikbx6KtYA7EMe+",
      "include_colab_link": true
    },
    "kernelspec": {
      "name": "python3",
      "display_name": "Python 3"
    },
    "language_info": {
      "name": "python"
    }
  },
  "cells": [
    {
      "cell_type": "markdown",
      "metadata": {
        "id": "view-in-github",
        "colab_type": "text"
      },
      "source": [
        "<a href=\"https://colab.research.google.com/github/Mgobeaalcoba/Deepnote_Repository/blob/main/transposici%C3%B3n_de_un_producto_de_matrices.ipynb\" target=\"_parent\"><img src=\"https://colab.research.google.com/assets/colab-badge.svg\" alt=\"Open In Colab\"/></a>"
      ]
    },
    {
      "cell_type": "markdown",
      "metadata": {
        "id": "mVEX1dD_8SgE"
      },
      "source": [
        "# Regla de la transposición de un producto de matrices\n",
        "\n",
        "$$ (a*b)^t = b^t * a^t $$\n",
        "\n",
        "$$ ((a*b)^t)^t = a*b$$"
      ]
    },
    {
      "cell_type": "code",
      "metadata": {
        "id": "RuqN6pe--Qmd"
      },
      "source": [
        "import numpy as np"
      ],
      "execution_count": 1,
      "outputs": []
    },
    {
      "cell_type": "code",
      "metadata": {
        "id": "3D7W465U-zhk"
      },
      "source": [
        "A = np.array([[2,3],[5,7],[11,13]])\n",
        "B = np.array([[1,3],[2,1]])"
      ],
      "execution_count": 2,
      "outputs": []
    },
    {
      "cell_type": "code",
      "metadata": {
        "colab": {
          "base_uri": "https://localhost:8080/"
        },
        "id": "FnAN0vGf-6vI",
        "outputId": "948ca1dc-f151-4d18-b2c2-6e1f0e94a9a8"
      },
      "source": [
        "print(A)\n",
        "print(B)"
      ],
      "execution_count": 3,
      "outputs": [
        {
          "output_type": "stream",
          "name": "stdout",
          "text": [
            "[[ 2  3]\n",
            " [ 5  7]\n",
            " [11 13]]\n",
            "[[1 3]\n",
            " [2 1]]\n"
          ]
        }
      ]
    },
    {
      "cell_type": "code",
      "metadata": {
        "id": "V2-QH66P_GYe"
      },
      "source": [
        "AB_t = A.dot(B).T"
      ],
      "execution_count": 4,
      "outputs": []
    },
    {
      "cell_type": "code",
      "metadata": {
        "id": "uHZECV3D_Lj9"
      },
      "source": [
        "B_tA_t = B.T.dot(A.T)"
      ],
      "execution_count": 5,
      "outputs": []
    },
    {
      "cell_type": "code",
      "metadata": {
        "colab": {
          "base_uri": "https://localhost:8080/"
        },
        "id": "gC26QmcJ_Sv2",
        "outputId": "9e9f5d19-ff26-49a0-a850-98f9f4298a32"
      },
      "source": [
        "print(AB_t)\n",
        "print(B_tA_t)"
      ],
      "execution_count": 6,
      "outputs": [
        {
          "output_type": "stream",
          "name": "stdout",
          "text": [
            "[[ 8 19 37]\n",
            " [ 9 22 46]]\n",
            "[[ 8 19 37]\n",
            " [ 9 22 46]]\n"
          ]
        }
      ]
    },
    {
      "cell_type": "code",
      "metadata": {
        "colab": {
          "base_uri": "https://localhost:8080/"
        },
        "id": "83AK5wKb_c77",
        "outputId": "4ba1b59e-3648-4d51-ad52-ea6b2ff712c3"
      },
      "source": [
        "print(AB_t == B_tA_t)"
      ],
      "execution_count": 7,
      "outputs": [
        {
          "output_type": "stream",
          "name": "stdout",
          "text": [
            "[[ True  True  True]\n",
            " [ True  True  True]]\n"
          ]
        }
      ]
    }
  ]
}