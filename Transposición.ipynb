{
  "nbformat": 4,
  "nbformat_minor": 0,
  "metadata": {
    "colab": {
      "name": "Transposición.ipynb",
      "provenance": [],
      "authorship_tag": "ABX9TyPHEL7WYS81/aTn0vOs7L6v",
      "include_colab_link": true
    },
    "kernelspec": {
      "name": "python3",
      "display_name": "Python 3"
    },
    "language_info": {
      "name": "python"
    }
  },
  "cells": [
    {
      "cell_type": "markdown",
      "metadata": {
        "id": "view-in-github",
        "colab_type": "text"
      },
      "source": [
        "<a href=\"https://colab.research.google.com/github/Mgobeaalcoba/Deepnote_Repository/blob/main/Transposici%C3%B3n.ipynb\" target=\"_parent\"><img src=\"https://colab.research.google.com/assets/colab-badge.svg\" alt=\"Open In Colab\"/></a>"
      ]
    },
    {
      "cell_type": "markdown",
      "metadata": {
        "id": "6Zvz5iAzKCRU"
      },
      "source": [
        "Matematicamente hablando trasponer es cambiar las filas por columnas. \n",
        "Ej vector fila se convierte en vector columna\n",
        "matriz de 3x2 se convierte en matriz de 2x3"
      ]
    },
    {
      "cell_type": "code",
      "metadata": {
        "id": "lAcO-ly5KRTz"
      },
      "source": [
        "import numpy as np"
      ],
      "execution_count": 1,
      "outputs": []
    },
    {
      "cell_type": "code",
      "metadata": {
        "id": "LuXmNUQ2KUMD"
      },
      "source": [
        "escalar = 5.679\n",
        "vector = np.array([1,2,3])\n",
        "matriz = np.array([[1,2,3],[4,5,6],[7,8,9]])\n",
        "tensor = np.array([[[1,2,3],[4,5,6],[7,8,9]],[[10,11,12],[13,14,15],[16,17,18]],[[19,20,21],[22,23,24],[25,26,27]]])"
      ],
      "execution_count": 2,
      "outputs": []
    },
    {
      "cell_type": "markdown",
      "metadata": {
        "id": "qoMcnWaCKUhn"
      },
      "source": [
        "para trasponer en Python vamos a usar el metodo \".t\" y para guardar como variable una traspuesta vamos a usar el la sintaxis terminada en \"_t\""
      ]
    },
    {
      "cell_type": "code",
      "metadata": {
        "colab": {
          "base_uri": "https://localhost:8080/"
        },
        "id": "6rCPEdRkKnq9",
        "outputId": "32f524fa-184e-4f31-cda5-ff3d4b9543d4"
      },
      "source": [
        "# escalar_t = escalar.t # No se puede trasponer un escalar porque es un dato único\n",
        "vector_t = vector.T\n",
        "print(vector_t) # Cuando trasponemos un vector no vamos a ver cambios al imprimir\n",
        "#Pero si vamos a notar esos cambios si hacemos operaciones matematicas con ella\n",
        "matriz_t = matriz.T\n",
        "print(\"\\n\")\n",
        "print(matriz)\n",
        "print(\"\\n\")\n",
        "print(matriz_t)\n",
        "tensor_t = tensor.T\n",
        "print(\"\\n\")\n",
        "print(tensor_t)"
      ],
      "execution_count": 10,
      "outputs": [
        {
          "output_type": "stream",
          "name": "stdout",
          "text": [
            "[1 2 3]\n",
            "\n",
            "\n",
            "[[1 2 3]\n",
            " [4 5 6]\n",
            " [7 8 9]]\n",
            "\n",
            "\n",
            "[[1 4 7]\n",
            " [2 5 8]\n",
            " [3 6 9]]\n",
            "\n",
            "\n",
            "[[[ 1 10 19]\n",
            "  [ 4 13 22]\n",
            "  [ 7 16 25]]\n",
            "\n",
            " [[ 2 11 20]\n",
            "  [ 5 14 23]\n",
            "  [ 8 17 26]]\n",
            "\n",
            " [[ 3 12 21]\n",
            "  [ 6 15 24]\n",
            "  [ 9 18 27]]]\n"
          ]
        }
      ]
    },
    {
      "cell_type": "code",
      "metadata": {
        "colab": {
          "base_uri": "https://localhost:8080/"
        },
        "id": "GRM5MO1AN9AU",
        "outputId": "97a30bbd-0d20-4357-96e6-f59fc82b1276"
      },
      "source": [
        "matriz_t_t = matriz_t.T # La transpuesta de una matriz transpuesta es la matriz\n",
        "# original\n",
        "print(matriz_t_t)"
      ],
      "execution_count": 12,
      "outputs": [
        {
          "output_type": "stream",
          "name": "stdout",
          "text": [
            "[[1 2 3]\n",
            " [4 5 6]\n",
            " [7 8 9]]\n"
          ]
        }
      ]
    },
    {
      "cell_type": "markdown",
      "metadata": {
        "id": "PSBODXt0OOQF"
      },
      "source": [
        "suma de matriz se puede realizar con matrices de iguales dimensiones. \n",
        "Ej: 2x2 + 2x2.\n",
        "Se suma cada elemento con su par de la segunda matriz y el resultado termina en una tercera matriz en una misma posición"
      ]
    },
    {
      "cell_type": "code",
      "metadata": {
        "colab": {
          "base_uri": "https://localhost:8080/"
        },
        "id": "8dxqNX_YOpQa",
        "outputId": "573b12a4-657d-4586-8d5b-b7b52e4202cf"
      },
      "source": [
        "matriz_suma = matriz + matriz_t\n",
        "print(matriz)\n",
        "print(\"\\n\")\n",
        "print(matriz_t)\n",
        "print(\"\\n\")\n",
        "print(matriz_suma)"
      ],
      "execution_count": 14,
      "outputs": [
        {
          "output_type": "stream",
          "name": "stdout",
          "text": [
            "[[1 2 3]\n",
            " [4 5 6]\n",
            " [7 8 9]]\n",
            "\n",
            "\n",
            "[[1 4 7]\n",
            " [2 5 8]\n",
            " [3 6 9]]\n",
            "\n",
            "\n",
            "[[ 2  6 10]\n",
            " [ 6 10 14]\n",
            " [10 14 18]]\n"
          ]
        }
      ]
    },
    {
      "cell_type": "code",
      "metadata": {
        "colab": {
          "base_uri": "https://localhost:8080/"
        },
        "id": "oI-q4OcvPbLy",
        "outputId": "35c4d520-52cc-4ad8-8a28-6bf14f1871e7"
      },
      "source": [
        "matriz_mas_escalar = matriz + escalar\n",
        "print(matriz_mas_escalar)"
      ],
      "execution_count": 15,
      "outputs": [
        {
          "output_type": "stream",
          "name": "stdout",
          "text": [
            "[[ 6.679  7.679  8.679]\n",
            " [ 9.679 10.679 11.679]\n",
            " [12.679 13.679 14.679]]\n"
          ]
        }
      ]
    },
    {
      "cell_type": "markdown",
      "metadata": {
        "id": "4TCg2k3AO2uL"
      },
      "source": [
        "¿Como podemos sumar matrices que no tengan las mismas dimensiones o matrices y vectores?"
      ]
    },
    {
      "cell_type": "code",
      "metadata": {
        "id": "CXODH7BXPtuS"
      },
      "source": [
        ""
      ],
      "execution_count": null,
      "outputs": []
    }
  ]
}