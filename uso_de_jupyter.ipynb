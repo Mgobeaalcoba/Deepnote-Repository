{
  "nbformat": 4,
  "nbformat_minor": 5,
  "metadata": {
    "kernelspec": {
      "display_name": "Python 3.8.8 64-bit ('base': conda)",
      "language": "python",
      "name": "python388jvsc74a57bd08e4836ace6ef49a5d3397e8f8f0a202723a9f44a7e3c83a7ef00426bbe892406"
    },
    "language_info": {
      "codemirror_mode": {
        "name": "ipython",
        "version": 3
      },
      "file_extension": ".py",
      "mimetype": "text/x-python",
      "name": "python",
      "nbconvert_exporter": "python",
      "pygments_lexer": "ipython3",
      "version": "3.8.8"
    },
    "colab": {
      "name": "uso de jupyter.ipynb",
      "provenance": [],
      "include_colab_link": true
    }
  },
  "cells": [
    {
      "cell_type": "markdown",
      "metadata": {
        "id": "view-in-github",
        "colab_type": "text"
      },
      "source": [
        "<a href=\"https://colab.research.google.com/github/Mgobeaalcoba/Deepnote_Repository/blob/main/uso_de_jupyter.ipynb\" target=\"_parent\"><img src=\"https://colab.research.google.com/assets/colab-badge.svg\" alt=\"Open In Colab\"/></a>"
      ]
    },
    {
      "cell_type": "code",
      "metadata": {
        "id": "13073b49",
        "outputId": "b2bad9e4-1032-46f5-fb0d-b37a99f370d8"
      },
      "source": [
        "from platform import python_version\n",
        "print(python_version())"
      ],
      "id": "13073b49",
      "execution_count": null,
      "outputs": [
        {
          "name": "stdout",
          "output_type": "stream",
          "text": [
            "3.8.8\n"
          ]
        }
      ]
    },
    {
      "cell_type": "code",
      "metadata": {
        "id": "d1af11cd",
        "outputId": "4be7cb44-69dd-4d95-dcfa-9036187d395f"
      },
      "source": [
        "print(\"Hola Mundo\")"
      ],
      "id": "d1af11cd",
      "execution_count": null,
      "outputs": [
        {
          "name": "stdout",
          "output_type": "stream",
          "text": [
            "Hola Mundo\n"
          ]
        }
      ]
    },
    {
      "cell_type": "markdown",
      "metadata": {
        "id": "75d7b545"
      },
      "source": [
        "# No es conveniente tener mas de 100 celdas en un Jupyter Notebook"
      ],
      "id": "75d7b545"
    },
    {
      "cell_type": "markdown",
      "metadata": {
        "id": "5f0b36ef"
      },
      "source": [
        "%run \"..\\\\funciones_auxialiares\\\"  # Sirve para poder continuar el uso de lo  elaborado mediante una importación en otro notebook"
      ],
      "id": "5f0b36ef"
    },
    {
      "cell_type": "code",
      "metadata": {
        "id": "9620cadb"
      },
      "source": [
        ""
      ],
      "id": "9620cadb",
      "execution_count": null,
      "outputs": []
    }
  ]
}